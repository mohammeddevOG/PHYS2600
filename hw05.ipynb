{
  "cells": [
    {
      "cell_type": "markdown",
      "metadata": {
        "id": "view-in-github",
        "colab_type": "text"
      },
      "source": [
        "<a href=\"https://colab.research.google.com/github/mohammeddevOG/PHYS2600/blob/main/hw05.ipynb\" target=\"_parent\"><img src=\"https://colab.research.google.com/assets/colab-badge.svg\" alt=\"Open In Colab\"/></a>"
      ]
    },
    {
      "cell_type": "markdown",
      "metadata": {
        "nbgrader": {
          "grade": false,
          "grade_id": "cell-053f09c8a8a514e5",
          "locked": true,
          "schema_version": 3,
          "solution": false,
          "task": false
        },
        "id": "OXI3DaLy1FkY"
      },
      "source": [
        "# Homework 5\n",
        "\n",
        "## PHYS 2600\n",
        "\n",
        "__Important notice:__ All cells in your notebook will be run, start to finish, using a fresh kernel when it is graded! To make sure the graded notebook looks like what you expect, we recommend selecting \"Runtime > Restart session and run all\" from the menu above in Colab before you finish."
      ]
    },
    {
      "cell_type": "code",
      "execution_count": null,
      "metadata": {
        "nbgrader": {
          "grade": false,
          "grade_id": "cell-54e460dda73947fa",
          "locked": true,
          "schema_version": 3,
          "solution": false,
          "task": false
        },
        "id": "x8gviLHr1Fka"
      },
      "outputs": [],
      "source": [
        "## Import cell\n",
        "\n",
        "%matplotlib inline\n",
        "import numpy as np"
      ]
    },
    {
      "cell_type": "markdown",
      "metadata": {
        "nbgrader": {
          "grade": false,
          "grade_id": "cell-06bff42e9e16d26f",
          "locked": true,
          "schema_version": 3,
          "solution": false,
          "task": false
        },
        "id": "SoQnKE231Fkb"
      },
      "source": [
        "If you worked collaboratively on this assignment, __include the names of your collaborators in the cell below:__"
      ]
    },
    {
      "cell_type": "markdown",
      "metadata": {
        "id": "0BsvTuLX1Fkb"
      },
      "source": []
    },
    {
      "cell_type": "markdown",
      "metadata": {
        "nbgrader": {
          "grade": false,
          "grade_id": "cell-9bbcf2e8b7cbb637",
          "locked": true,
          "schema_version": 3,
          "solution": false,
          "task": false
        },
        "id": "axfF-rf51Fkb"
      },
      "source": [
        "## 5.0 - Homework correction (3 points)\n",
        "\n",
        "In the cell below, explain and correct __one mistake__ you made on homework #3.  If you got a perfect score, great, tell us what your favorite problem was, or use the space to give any other feedback you might have on the class/tutorials/homework."
      ]
    },
    {
      "cell_type": "markdown",
      "metadata": {
        "nbgrader": {
          "grade": true,
          "grade_id": "hw6-correction",
          "locked": false,
          "points": 3,
          "schema_version": 3,
          "solution": true,
          "task": false
        },
        "id": "dZPoHScb1Fkb"
      },
      "source": []
    },
    {
      "cell_type": "markdown",
      "metadata": {
        "id": "eoJhpYLm1Fkb"
      },
      "source": [
        "## 5.1 - More Boolean logic (9 points)\n",
        "\n",
        "For the problems below, you should __write a Boolean test function__, i.e. a function that returns a Boolean value `True` or `False`.\n",
        "\n",
        "### Part A (4 points)\n",
        "\n",
        "Implement the function `one_is_odd(x,y)`, which should return `True` if just one of `x` and `y` is an odd number (i.e. not divisible by 2), and `False` otherwise."
      ]
    },
    {
      "cell_type": "code",
      "execution_count": 19,
      "metadata": {
        "nbgrader": {
          "grade": false,
          "grade_id": "cell-a5c0ff0849f24f75",
          "locked": false,
          "schema_version": 3,
          "solution": true,
          "task": false
        },
        "id": "ZVqCm1f61Fkb"
      },
      "outputs": [],
      "source": [
        "def one_is_odd(x,y):\n",
        "    # I will not use the if notation since this can be done easier with one line\n",
        "    return (x % 2 != 0 and y % 2 == 0) or (x % 2 == 0 and y % 2 != 0)"
      ]
    },
    {
      "cell_type": "markdown",
      "metadata": {
        "id": "J2QkYgxb1Fkc"
      },
      "source": [
        "Some of the tests below are written incorrectly. Fix them so that they will run without error on your (correctly written!) `one_is_odd` function."
      ]
    },
    {
      "cell_type": "code",
      "execution_count": 20,
      "metadata": {
        "nbgrader": {
          "grade": true,
          "grade_id": "cell-ef92213313962c89",
          "locked": true,
          "points": 3,
          "schema_version": 3,
          "solution": false,
          "task": false
        },
        "id": "hIDymtbg1Fkc"
      },
      "outputs": [],
      "source": [
        "assert one_is_odd(2,3)\n",
        "assert not one_is_odd(5,7)\n",
        "assert not one_is_odd (2,4)\n",
        "assert not one_is_odd(6,18)"
      ]
    },
    {
      "cell_type": "markdown",
      "metadata": {
        "nbgrader": {
          "grade": false,
          "grade_id": "cell-2aa11bd931d24508",
          "locked": true,
          "schema_version": 3,
          "solution": false,
          "task": false
        },
        "id": "ocbEAziS1Fkc"
      },
      "source": [
        "### Part B (4 points)\n",
        "\n",
        "Implement the function `close_to_sqrt(x,y,tol)`, which should check whether either number is the square root of the other number.  (Specifically, it should return `True` if $x^2$ is within `tol` of $y$ or if $y^2$ is within `tol` if $x$.)"
      ]
    },
    {
      "cell_type": "code",
      "execution_count": 21,
      "metadata": {
        "nbgrader": {
          "grade": false,
          "grade_id": "cell-b0c5c0a3b12e63cd",
          "locked": false,
          "schema_version": 3,
          "solution": true,
          "task": false
        },
        "id": "IKVYB2VT1Fkc"
      },
      "outputs": [],
      "source": [
        "def close_to_sqrt(x,y,tol=1e-2):\n",
        "    #\n",
        "    return np.abs(x**2 - y) < tol or np.abs(y**2 - x) < tol"
      ]
    },
    {
      "cell_type": "code",
      "execution_count": 22,
      "metadata": {
        "nbgrader": {
          "grade": true,
          "grade_id": "cell-45d83211ab7d7f7e",
          "locked": true,
          "points": 3,
          "schema_version": 3,
          "solution": false,
          "task": false
        },
        "id": "IXkxIf0j1Fkc"
      },
      "outputs": [],
      "source": [
        "assert close_to_sqrt(5.0, 25.0)\n",
        "assert not close_to_sqrt(2.0, 9.0)\n",
        "assert close_to_sqrt(36.0, 6.0)\n",
        "assert close_to_sqrt(49.0, -7.0001, tol=1e-2)"
      ]
    },
    {
      "cell_type": "markdown",
      "metadata": {
        "nbgrader": {
          "grade": false,
          "grade_id": "cell-fde03eaac23ffad9",
          "locked": true,
          "schema_version": 3,
          "solution": false,
          "task": false
        },
        "id": "a5xN3kxE1Fkc"
      },
      "source": [
        "### Part C (4 points)\n",
        "\n",
        "Implement the function `are_negative_ordered(a,b,c)`, which should check to see whether __both__ $a<b<c$ __and__ all three numbers are negative.  (You have to write the function header this time!)"
      ]
    },
    {
      "cell_type": "code",
      "execution_count": 23,
      "metadata": {
        "nbgrader": {
          "grade": false,
          "grade_id": "cell-85d296c88a662174",
          "locked": false,
          "schema_version": 3,
          "solution": true,
          "task": false
        },
        "id": "sYLJUOXi1Fkc"
      },
      "outputs": [],
      "source": [
        "def are_negative_ordered(a, b, c):\n",
        "  return a < b and b < c and a < 0 and b < 0 and c < 0 # Jsut a multiple check\n"
      ]
    },
    {
      "cell_type": "code",
      "execution_count": 24,
      "metadata": {
        "nbgrader": {
          "grade": true,
          "grade_id": "cell-038e80cd56f7f8f4",
          "locked": true,
          "points": 3,
          "schema_version": 3,
          "solution": false,
          "task": false
        },
        "id": "T7aG5hWD1Fkc"
      },
      "outputs": [],
      "source": [
        "assert are_negative_ordered(-3,-2,-1)\n",
        "assert not are_negative_ordered(-4,-3,-5)\n",
        "assert not are_negative_ordered(-7,3,7)\n",
        "assert are_negative_ordered(-9,-5,-3)\n",
        "assert not are_negative_ordered(0,1,1)\n",
        "assert not are_negative_ordered(-1,-10,-100)"
      ]
    },
    {
      "cell_type": "markdown",
      "metadata": {
        "nbgrader": {
          "grade": false,
          "grade_id": "cell-ebf80d835d2d375d",
          "locked": true,
          "schema_version": 3,
          "solution": false,
          "task": false
        },
        "id": "Fh176HQ91Fkc"
      },
      "source": [
        "## 5.2 - Working with integrals (9 points)\n",
        "\n",
        "For this problem you'll be evaluating some integrals numerically, using the `np.trapezoid` function.  Choosing the number of points for your discrete grid is up to you - but your answers _should be accurate to within 0.1%_ of the exact result.  __Check that your answer is accurate, and use more points in your grid if it's not, or you will lose points!!__\n",
        "\n",
        "_(Hint: how can you check your answer?  Remember, a simple test is just to increase the number of points on your grid, and see if the answer changes or not.  This generally works even for cases where you don't know the right answer.)_\n",
        "\n",
        "_(Another hint: the first integral is easy to work out by hand, so you know the right answer...the second integral also has an analytic answer, although it's harder to get.)_\n",
        "\n",
        "### Part A (3 points)\n",
        "\n",
        "Evaluate the integral:\n",
        "\n",
        "$$\n",
        "I = \\int_0^4 \\left[ 4(x^3 - 1) \\right] dx\n",
        "$$\n",
        "\n",
        "__Save your numerical answer to the variable `integral_I`.__  The testing cell will do a simple check that your integral is positive, it's up to you to actually verify the answer..."
      ]
    },
    {
      "cell_type": "code",
      "execution_count": 33,
      "metadata": {
        "nbgrader": {
          "grade": false,
          "grade_id": "cell-cc9e5975e7cd6838",
          "locked": false,
          "schema_version": 3,
          "solution": true,
          "task": false
        },
        "id": "SZ1Zg-Qu1Fkc",
        "colab": {
          "base_uri": "https://localhost:8080/"
        },
        "outputId": "a5befa3f-7caa-4cd3-bf6c-0b43dc407f3c"
      },
      "outputs": [
        {
          "output_type": "stream",
          "name": "stdout",
          "text": [
            "240.000256512769\n"
          ]
        }
      ],
      "source": [
        "integral_I = [0,120,180,240] # I don't understadn this question do I just solve teh integral and ehck oer do I need to ue the tripzoid function?\n",
        "\n",
        "# I think maybe you want it like this if I understand the question correctly\n",
        "points_N = 1000\n",
        "x = np.linspace(0,4,points_N)\n",
        "y = 4*(x**3 - 1)\n",
        "integral_I = np.trapezoid(y,x)\n",
        "print(integral_I)"
      ]
    },
    {
      "cell_type": "code",
      "execution_count": 34,
      "metadata": {
        "nbgrader": {
          "grade": true,
          "grade_id": "cell-4f37e09dbc6bd44f",
          "locked": true,
          "points": 1,
          "schema_version": 3,
          "solution": false,
          "task": false
        },
        "id": "iJMW6pgu1Fkc",
        "colab": {
          "base_uri": "https://localhost:8080/"
        },
        "outputId": "ba0c0975-a100-49fd-bdeb-e360e108af32"
      },
      "outputs": [
        {
          "output_type": "stream",
          "name": "stdout",
          "text": [
            "240.000256512769\n"
          ]
        }
      ],
      "source": [
        "# Basic sanity check - not a thorough test!\n",
        "print(integral_I)\n",
        "assert integral_I > 0."
      ]
    },
    {
      "cell_type": "markdown",
      "metadata": {
        "nbgrader": {
          "grade": false,
          "grade_id": "cell-d49bc39982f179eb",
          "locked": true,
          "schema_version": 3,
          "solution": false,
          "task": false
        },
        "id": "nMA0GeZu1Fkd"
      },
      "source": [
        "\n",
        "### Part B (3 points)\n",
        "\n",
        "Evaluate the integral:\n",
        "\n",
        "$$\n",
        "J = \\int_0^{2\\pi} \\sin(2x) e^{-x/2} dx\n",
        "$$\n",
        "\n",
        "__Save your numerical answer to the variable `integral_J`.__  The testing cell will do a simple check that your integral is positive, it's up to you to verify the answer..."
      ]
    },
    {
      "cell_type": "code",
      "execution_count": 35,
      "metadata": {
        "nbgrader": {
          "grade": false,
          "grade_id": "cell-94ecc32dd20c782b",
          "locked": false,
          "schema_version": 3,
          "solution": true,
          "task": false
        },
        "id": "5rkakKuE1Fkd",
        "colab": {
          "base_uri": "https://localhost:8080/"
        },
        "outputId": "ca35d06a-5161-4c9f-e1c9-e7fafdbb951b"
      },
      "outputs": [
        {
          "output_type": "stream",
          "name": "stdout",
          "text": [
            "0.45024596573491493\n"
          ]
        }
      ],
      "source": [
        "# This will be the second solve from above\n",
        "points_N = 1000\n",
        "x = np.linspace(0,2*np.pi,points_N)\n",
        "y = np.sin(2*x)*np.exp(-x/2)\n",
        "integral_J = np.trapezoid(y,x)\n",
        "print(integral_J)"
      ]
    },
    {
      "cell_type": "code",
      "execution_count": 36,
      "metadata": {
        "nbgrader": {
          "grade": true,
          "grade_id": "cell-b5ff79ce5bc71b63",
          "locked": true,
          "points": 1,
          "schema_version": 3,
          "solution": false,
          "task": false
        },
        "id": "aAyQB3XG1Fkd",
        "colab": {
          "base_uri": "https://localhost:8080/"
        },
        "outputId": "401cfe71-52cf-42af-842c-8557255d77e7"
      },
      "outputs": [
        {
          "output_type": "stream",
          "name": "stdout",
          "text": [
            "0.45024596573491493\n"
          ]
        }
      ],
      "source": [
        "# Basic sanity check\n",
        "print(integral_J)\n",
        "assert integral_J > 0."
      ]
    },
    {
      "cell_type": "markdown",
      "metadata": {
        "nbgrader": {
          "grade": false,
          "grade_id": "cell-e72ee10fa5a29401",
          "locked": true,
          "schema_version": 3,
          "solution": false,
          "task": false
        },
        "id": "3N33MM0f1Fkd"
      },
      "source": [
        "### Part C (3 points)\n",
        "\n",
        "Evaluate the integral:\n",
        "\n",
        "$$\n",
        "K = \\int_{-1}^{1} \\frac{\\sin(500x)}{x} dx\n",
        "$$\n",
        "\n",
        "__Save your numerical answer to the variable `integral_K`.__  The testing cell will do a simple check that your integral is positive, it's up to you to verify the answer...\n",
        "\n",
        "_(Hint: integral K is oscillating back and forth pretty badly - you need to be especially careful that you used enough points here!)_"
      ]
    },
    {
      "cell_type": "code",
      "execution_count": 37,
      "metadata": {
        "nbgrader": {
          "grade": false,
          "grade_id": "cell-08919c8cfff5dc63",
          "locked": false,
          "schema_version": 3,
          "solution": true,
          "task": false
        },
        "id": "Vv4dETIz1Fkd",
        "colab": {
          "base_uri": "https://localhost:8080/"
        },
        "outputId": "0114667d-c380-4d55-f750-a9abb7fc7927"
      },
      "outputs": [
        {
          "output_type": "stream",
          "name": "stdout",
          "text": [
            "3.1448318362425205\n"
          ]
        }
      ],
      "source": [
        "points_N = 1000 # I don't need this each cell but I may change the points depends on teh integral\n",
        "x = np.linspace(-1,1,points_N)\n",
        "y = np.sin(500*x)/x\n",
        "integral_K = np.trapezoid(y,x)\n",
        "print(integral_K)"
      ]
    },
    {
      "cell_type": "code",
      "execution_count": 38,
      "metadata": {
        "nbgrader": {
          "grade": true,
          "grade_id": "cell-0c593d22c9da203c",
          "locked": true,
          "points": 1,
          "schema_version": 3,
          "solution": false,
          "task": false
        },
        "id": "xwM6KbKc1Fkd",
        "colab": {
          "base_uri": "https://localhost:8080/"
        },
        "outputId": "77efe687-01e5-47d7-a947-2e7162dbe451"
      },
      "outputs": [
        {
          "output_type": "stream",
          "name": "stdout",
          "text": [
            "3.1448318362425205\n"
          ]
        }
      ],
      "source": [
        "# Basic sanity check\n",
        "print(integral_K)\n",
        "assert integral_K > 0."
      ]
    },
    {
      "cell_type": "markdown",
      "metadata": {
        "nbgrader": {
          "grade": false,
          "grade_id": "cell-f5f0dfb5574e354f",
          "locked": true,
          "schema_version": 3,
          "solution": false,
          "task": false
        },
        "id": "jifGvU0S1Fkd"
      },
      "source": [
        "## 5.3 - NumPy and precision (6 points)\n",
        "\n",
        "Let's use NumPy to explore issues related to floating-point precision some more.\n",
        "\n",
        "### Part A (2 points)\n",
        "\n",
        "In the cell below, __use NumPy to calculate__ $\\sin(0)$ and $\\sin(\\pi)$, and print them both out.\n"
      ]
    },
    {
      "cell_type": "code",
      "execution_count": 31,
      "metadata": {
        "nbgrader": {
          "grade": false,
          "grade_id": "cell-b3c5efc0587e8624",
          "locked": false,
          "schema_version": 3,
          "solution": true,
          "task": false
        },
        "id": "Iu71vOcU1Fkd",
        "colab": {
          "base_uri": "https://localhost:8080/"
        },
        "outputId": "c329df9d-4cdb-48fa-dcdc-303d21dd31be"
      },
      "outputs": [
        {
          "output_type": "stream",
          "name": "stdout",
          "text": [
            "0.0\n",
            "1.2246467991473532e-16\n"
          ]
        }
      ],
      "source": [
        "#\n",
        "print(np.sin(0))\n",
        "print(np.sin(np.pi))"
      ]
    },
    {
      "cell_type": "markdown",
      "metadata": {
        "nbgrader": {
          "grade": false,
          "grade_id": "cell-3cb5b9a4cb7a9ccb",
          "locked": true,
          "schema_version": 3,
          "solution": false,
          "task": false
        },
        "id": "tpXmSsH21Fkd"
      },
      "source": [
        "Now based on what you know about floating-point precision, explain __why these two values are different__ - and __explain the size of the difference__."
      ]
    },
    {
      "cell_type": "markdown",
      "metadata": {
        "nbgrader": {
          "grade": true,
          "grade_id": "cell-004c52cde60ab9a6",
          "locked": false,
          "points": 2,
          "schema_version": 3,
          "solution": true,
          "task": false
        },
        "id": "6UFN3Huv1Fkd"
      },
      "source": [
        "**Zero is an exact number, even in floating point, so sin(0) is exactly 0 too.  However, $\\pi$ is not exact - it must be truncated as a floating-point number.  With 64-bit precision, we expect the truncation error to be roughly around $10^{-16}$, exactly what we find.__**"
      ]
    },
    {
      "cell_type": "markdown",
      "metadata": {
        "nbgrader": {
          "grade": false,
          "grade_id": "cell-44d4e410312f5dc3",
          "locked": true,
          "schema_version": 3,
          "solution": false,
          "task": false
        },
        "id": "_1wrWzJc1Fkd"
      },
      "source": [
        "### Part B (2 points)\n",
        "\n",
        "Although the truncation error we saw above was very small, it can still be significant if we're not careful.  In particular, if a truncation error occurs many times, we can end up with __accumulated errors__ that can be significant.\n",
        "\n",
        "In the cell below, __create an array containing the value $\\pi$ 100 million times__.  Then take the sine of the array, and sum over it with `np.sum()`.  Print the result."
      ]
    },
    {
      "cell_type": "code",
      "execution_count": 40,
      "metadata": {
        "nbgrader": {
          "grade": true,
          "grade_id": "cell-6765b76ea3ef7964",
          "locked": false,
          "points": 1,
          "schema_version": 3,
          "solution": true,
          "task": false
        },
        "id": "6Cbu8gbu1Fkd",
        "colab": {
          "base_uri": "https://localhost:8080/"
        },
        "outputId": "86e33921-640c-4f1a-f88b-3a607d30dc3a"
      },
      "outputs": [
        {
          "output_type": "stream",
          "name": "stdout",
          "text": [
            "-3.9082928156687315e-08\n"
          ]
        }
      ],
      "source": [
        "#\n",
        "pi_array = np.array(100000000)*np.pi\n",
        "print(np.sum(np.sin(pi_array)))"
      ]
    },
    {
      "cell_type": "markdown",
      "metadata": {
        "nbgrader": {
          "grade": false,
          "grade_id": "cell-9a31bf92690270e0",
          "locked": true,
          "schema_version": 3,
          "solution": false,
          "task": false
        },
        "id": "f42HEw_K1Fkd"
      },
      "source": [
        "Once again, the sum _should_ be zero.  __Explain the size of the difference.__"
      ]
    },
    {
      "cell_type": "markdown",
      "metadata": {
        "nbgrader": {
          "grade": true,
          "grade_id": "cell-b9e7c77f9ebfedee",
          "locked": false,
          "points": 1,
          "schema_version": 3,
          "solution": true,
          "task": false
        },
        "id": "lai8ZFk21Fkd"
      },
      "source": [
        "__This is a simple extension of what we saw in part A; the truncation error for $\\sin(\\pi)$ is $10^{-16}$, so if we repeat that error 100 million = $10^{8}$ times, the resulting error is about $10^{-8}$, matching the print-out above.__\n",
        "\n",
        "\n",
        "### The answer is written? or do I need to formulate my wording of the problem?"
      ]
    },
    {
      "cell_type": "markdown",
      "metadata": {
        "nbgrader": {
          "grade": false,
          "grade_id": "cell-ed501e1abf86b771",
          "locked": true,
          "schema_version": 3,
          "solution": false,
          "task": false
        },
        "id": "L6iWdAHb1Fkd"
      },
      "source": [
        "### Part C (3 points)\n",
        "\n",
        "We're insulated from these issues with precision by using 64-bit floating point, but NumPy supports other representations that use small amounts of memory.  \n",
        "\n",
        "Use the `np.array()` function to create another array with 100 million copies of $\\pi$, but this time __in 32-bit precision (using data type `np.float32`.)__  You should get a much larger accumulated error!"
      ]
    },
    {
      "cell_type": "code",
      "execution_count": 41,
      "metadata": {
        "nbgrader": {
          "grade": true,
          "grade_id": "cell-5b23f603432911f3",
          "locked": false,
          "points": 1,
          "schema_version": 3,
          "solution": true,
          "task": false
        },
        "id": "UKyDvqr11Fkd",
        "colab": {
          "base_uri": "https://localhost:8080/"
        },
        "outputId": "166b4952-e821-4c1e-da3a-e148e0764941"
      },
      "outputs": [
        {
          "output_type": "stream",
          "name": "stdout",
          "text": [
            "-0.9776505\n"
          ]
        }
      ],
      "source": [
        "#\n",
        "pi_array = np.array(100000000, dtype=np.float32)*np.pi\n",
        "print(np.sum(np.sin(pi_array)))"
      ]
    },
    {
      "cell_type": "markdown",
      "metadata": {
        "nbgrader": {
          "grade": false,
          "grade_id": "cell-033e2a75ddbef932",
          "locked": true,
          "schema_version": 3,
          "solution": false,
          "task": false
        },
        "id": "AQzUd9ut1Fkd"
      },
      "source": [
        "Now __explain the size of the error__ that you find with 32-bit precision!  \n",
        "\n",
        "_(Hint: look back at lecture 8 to see where the truncation error of approximately $10^{-16}$ came from for 64-bit floats.  A 32-bit float has up to 23 bits of precision in its significant digits.)_"
      ]
    },
    {
      "cell_type": "markdown",
      "metadata": {
        "nbgrader": {
          "grade": true,
          "grade_id": "cell-a943363ae2743601",
          "locked": false,
          "points": 2,
          "schema_version": 3,
          "solution": true,
          "task": false
        },
        "id": "pPgfYnmb1Fkd"
      },
      "source": [
        "__Using the information given above, the maximum truncation error with 32 bits is $(1/2)^{23} \\approx 6 \\times 10^{-8}$.  If we multiply this by 100 million, we get 6 as the max expected error - which is pretty close to what we see in the output above!__"
      ]
    },
    {
      "cell_type": "markdown",
      "metadata": {
        "nbgrader": {
          "grade": false,
          "grade_id": "cell-11b9ea567d496c07",
          "locked": true,
          "schema_version": 3,
          "solution": false,
          "task": false
        },
        "id": "ruVlgo2w1Fkd"
      },
      "source": [
        "## 5.4 - Intro to TeX math notation (12 points)\n",
        "\n",
        "All the way back in lecture 1, I told you that we'd be meeting not just Markdown, but a way to write math equations inside Jupyter Markdown blocks called __MathJax__.  Well, now is the time!\n",
        "\n",
        "MathJax is a tool that implements the widely-used __TeX math notation__.  \"TeX\" (pronounced like \"tech\") is a typesetting language used to make PDF files: it's the gold standard for writing scientific papers.  In its full glory, TeX is a complete markup langauge which is significantly more complicated than Markdown.  MathJax just borrows the math notation, and lets us use it alongside Markdown - the best of both worlds!\n",
        "\n",
        "You can even use it in things like legends and labels for PyPlot, as in the cell above!  For PyPlot, _an extra `\\` appears in all TeX commands that use one_  (this is due to `\\` being an \"escape character\" for PyPlot itself.)\n",
        "\n",
        "Having both Markdown and TeX math available lets you make complete, self-contained Jupyter notebooks for projects - like every lecture and assignment you've seen in the class so far."
      ]
    },
    {
      "cell_type": "markdown",
      "metadata": {
        "id": "Qcw_AMeQ1Fkd"
      },
      "source": [
        "This cell shows the notation for MathJax inside Jupyter.  We can write both __in-line math__, which appears as part of some other text, or __stand-alone equations__ which are separated out.  In-line math looks like this: $a^2 + b^2 = c^2$, and is denoted by surrounding our math with the dollar `$` character.  Stand-alone equations look like this:\n",
        "\n",
        "$$\n",
        "\\int_0^1 x = \\frac{1}{2}\n",
        "$$\n",
        "\n",
        "and are denoted by a _pair_ of dollar signs, `$$`.\n",
        "__Double-click on this cell to see what's inside!__"
      ]
    },
    {
      "cell_type": "markdown",
      "metadata": {
        "nbgrader": {
          "grade": false,
          "grade_id": "cell-32625b16fec50766",
          "locked": true,
          "schema_version": 3,
          "solution": false,
          "task": false
        },
        "id": "4HIz8acy1Fkg"
      },
      "source": [
        "The _next_ couple cells show some common TeX commands and how they appear.  There's a [nice and somewhat more complete list on StackExchange here](https://math.meta.stackexchange.com/questions/5020/mathjax-basic-tutorial-and-quick-reference).\n",
        "\n",
        "Basically:\n",
        "* Regular letters and math symbols like `+`, `-`, `/` are all drawn nicely.\n",
        "* TeX commands are denoted by a backslash, i.e. as `\\command`.  These draw special symbols like $\\zeta$, names of special functions like $\\sin$, and things like integrals, fractions, sums...\n",
        "* TeX uses curly braces `{`,`}` to group things together: this tells it the difference between $10^10$ and $10^{10}$.\n",
        "\n",
        "Even I don't know all of the TeX special commands!  If you're looking for the TeX to draw something specific, [DeTeXify](http://detexify.kirelabs.org/classify.html) will let you draw it and try to guess what command you're looking for!"
      ]
    },
    {
      "cell_type": "markdown",
      "metadata": {
        "nbgrader": {
          "grade": false,
          "grade_id": "cell-5f38639e7e075018",
          "locked": true,
          "schema_version": 3,
          "solution": false,
          "task": false
        },
        "id": "FKsWxDV51Fkg"
      },
      "source": [
        "| Symbol | TeX command | Example |\n",
        "|--------|-------------|---------|\n",
        "| superscript  |  `^`        |   $x^2$   |\n",
        "| subscript |  `_`      |  $x_i$  |\n",
        "| symbols  | `\\alpha, \\beta, \\Gamma...` | $\\alpha$, $\\beta$, $\\Gamma$ |\n",
        "| more symbols| `\\infty, \\lt, \\gt, \\cdot , \\rightarrow...` | $\\infty, \\lt, \\gt, \\cdot, \\rightarrow$ |\n",
        "| special funcs | `\\sin, \\log, \\lim...` | $\\sin(x)$, $\\log(y)$, $\\lim_{x \\rightarrow 0}$ |\n",
        "| groups   | `{...}`    |  $10^10$ (wrong) vs. $10^{10}$ (grouped!) |\n",
        "| fraction | `\\frac{a}{b}` |  $\\frac{3}{4}$  |\n",
        "| integral | `\\int_{a}^{b}` |  $\\int_{-1}^{1}$ |\n",
        "| derivative | `\\frac{dy}{dx}` | $\\frac{dy}{dx}$ |\n",
        "| sum  | `\\sum_{a}^{b}`    | $\\sum_{x=1}^{10}$ |\n",
        "| product  | `\\prod_{a}^{b}`    | $\\prod_{x=1}^{10}$ |\n",
        "| radicals  | `\\sqrt{...}`  | $\\sqrt{3}$ or $\\sqrt[4]{4}$ |\n",
        "| accents and fonts | `\\vec{x}, \\mathbf{y}, \\hat{z}...` | $\\vec{x}, \\mathbf{y}, \\hat{z}$ |\n",
        "| text inside math | `\\text{some text}` | $x_{\\text{long text label}}$ |\n"
      ]
    },
    {
      "cell_type": "markdown",
      "metadata": {
        "id": "owArMrIF1Fkg"
      },
      "source": [
        "**Brackets/parenthesis:**\n",
        "\n",
        "| Type | TeX command | Example |\n",
        "|--------|-------------|---------|\n",
        "| round \t  |  `(x+y)`        |   $(x+y)$   |\n",
        "| square \t  |  `[x+y]`        |   $[x+y]$   |\n",
        "| curly \t  |  `\\{ x+y \\}`        |   $\\{x+y\\}$   |\n",
        "| angled \t  |  `\\langle x+y \\rangle`        |   $\\langle x+y \\rangle$   |\n",
        "| vertical \t  |  `\\|x+y\\|`        |   $|x+y|$   |\n",
        "\n",
        "The `\\left` and `\\right` commands can be used to automatically scale/adjust the size of brackets. Use these when the contents are tall (fractions, sums, matrices).\n",
        "\n",
        "| TeX command | Example |\n",
        "|-------------|---------|\n",
        "|  `(\\frac{1}{2})`        |   $\\displaystyle(\\frac{1}{2})$   |\n",
        "|  `\\left(\\frac{1}{2}\\right)`        |   $\\displaystyle\\left(\\frac{1}{2}\\right)$   |\n",
        "|  `\\|\\frac{1}{2}\\rangle`        |   $\\displaystyle|\\frac{1}{2}\\rangle$   |\n",
        "|  `\\left\\|\\frac{1}{2}\\right\\rangle`        |   $\\displaystyle\\left|\\frac{1}{2}\\right\\rangle$   |\n"
      ]
    },
    {
      "cell_type": "markdown",
      "metadata": {
        "nbgrader": {
          "grade": false,
          "grade_id": "cell-14ee93ed8a4e2df5",
          "locked": true,
          "schema_version": 3,
          "solution": false,
          "task": false
        },
        "id": "QDdORCq51Fkg"
      },
      "source": [
        "### Part A (8 points)\n",
        "\n",
        "__Write all of the following formulas out in TeX in the cell below:__ use the variable names as described!\n",
        "\n",
        "* __The Pythagorean theorem:__ the sum of squares of two sides $a$ and $b$ of a right triangle equals the square of the length of the hypotenuse $c$.\n",
        "* __Newton's second law:__ in one dimension, force vector $F$ is equal to the  derivative of momentum vector $p$ with respect to time $t$.\n",
        "* __Simple integration:__ the integral of the function 1/x from 1 to 2 is equal to the logarithm of 2.\n",
        "* __The quadratic formula:__ solutions to the quadratic equation $ax^2 + bx + c = 0$ are minus b, plus or minus the square root of b squared minus 4 times a times c, all divided by 2 times a."
      ]
    },
    {
      "cell_type": "markdown",
      "metadata": {
        "nbgrader": {
          "grade": true,
          "grade_id": "cell-19afc2343368c191",
          "locked": false,
          "points": 8,
          "schema_version": 3,
          "solution": true,
          "task": false
        },
        "id": "ukkn1-Is1Fkg"
      },
      "source": [
        "* __Pythagorean theorem:__ $$c^2 = a^2+b^2$$\n",
        "\n",
        "\n",
        "\n",
        "* __Newton's second law:__ $$\\vec{F}= \\frac{dp}{dt} $$\n",
        "\n",
        "\n",
        "* __A simple integral:__ $$\\int_1^2 \\frac{1}{x} dx = \\ln(2)$$\n",
        "\n",
        "\n",
        "\n",
        "* __The quadratic formula:__ $$ ax^2+bx+c = \\frac{∓ b\\sqrt(b^2-4ac)}{2a}$$\n",
        "\n"
      ]
    },
    {
      "cell_type": "markdown",
      "metadata": {
        "nbgrader": {
          "grade": false,
          "grade_id": "cell-c104cb5d7019d394",
          "locked": true,
          "schema_version": 3,
          "solution": false,
          "task": false
        },
        "id": "NyPB64C51Fkg"
      },
      "source": [
        "### Part B (4 points)\n",
        "\n",
        "Now let's put what you know together: in the final cell below, __pick your favorite physics or math equation__ (not on the list you just did), write it out in TeX notation, and then _describe it briefly using Markdown._"
      ]
    },
    {
      "cell_type": "markdown",
      "source": [
        "# The Feynmen Path Integral\n",
        "\n",
        "$$\n",
        "\\langle x_f, t_f | x_i, t_i ⟩ = \\mathcal{D}x(t) e^{\\frac{iS[x(t)]}{\\hbar}}\n",
        "$$\n",
        "\n",
        "\n",
        "### I'm not saying that I understand the eqaution but I will in the feture, but I will try to give some background of what I already know:\n",
        "\n",
        "* __$x_i$__: The Intial postion of the particle.\n",
        "* __$t_i$__: The Intial time.\n",
        "* __$x_f$__: The Final posation.\n",
        "* __$t_f$__: The Final time.\n",
        "* __$x(t)$__: The fnction that produce the postion of the partical at some __t__.\n",
        "* __$\\mathcal{D}$__: The Path Integral - I searched this since I never really introduced to, but I found it intreging.\n",
        "* __$S[x(t)]$__:The Action.\n",
        "* __$ħ$__: This is the reduced plank constant to paly around in quantum\n",
        "* __$e^{\\frac{iS[x(t)]}{\\hbar}}$__: The Weigting factor."
      ],
      "metadata": {
        "id": "eRrTaZ_3K7A3"
      }
    }
  ],
  "metadata": {
    "celltoolbar": "Create Assignment",
    "kernelspec": {
      "display_name": "Python 3 (ipykernel)",
      "language": "python",
      "name": "python3"
    },
    "language_info": {
      "codemirror_mode": {
        "name": "ipython",
        "version": 3
      },
      "file_extension": ".py",
      "mimetype": "text/x-python",
      "name": "python",
      "nbconvert_exporter": "python",
      "pygments_lexer": "ipython3",
      "version": "3.13.7"
    },
    "nbgrader": {
      "__altered": false,
      "__hash": 840017758,
      "_root": {
        "entries": [
          [
            "__altered",
            false
          ],
          [
            "__hash",
            853781301
          ],
          [
            "_root",
            {
              "entries": [
                [
                  "size",
                  1
                ],
                [
                  "_root",
                  {
                    "entries": [
                      [
                        "cocalc_minimal_stubs",
                        true
                      ]
                    ],
                    "ownerID": {}
                  }
                ],
                [
                  "__ownerID",
                  null
                ],
                [
                  "__hash",
                  912286151
                ],
                [
                  "__altered",
                  false
                ],
                [
                  "cocalc_minimal_stubs",
                  true
                ]
              ],
              "ownerID": {}
            }
          ],
          [
            "cocalc_minimal_stubs",
            true
          ],
          [
            "size",
            6
          ]
        ],
        "ownerID": {}
      },
      "cocalc_minimal_stubs": false,
      "size": 5
    },
    "colab": {
      "provenance": [],
      "collapsed_sections": [
        "eoJhpYLm1Fkb"
      ],
      "include_colab_link": true
    }
  },
  "nbformat": 4,
  "nbformat_minor": 0
}