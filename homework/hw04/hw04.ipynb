{
  "cells": [
    {
      "cell_type": "markdown",
      "metadata": {
        "nbgrader": {
          "grade": false,
          "grade_id": "cell-053f09c8a8a514e5",
          "locked": true,
          "schema_version": 3,
          "solution": false,
          "task": false
        },
        "id": "ci-fg-iYJyo_"
      },
      "source": [
        "# Homework 4\n",
        "\n",
        "## PHYS 2600\n",
        "\n",
        "__Important notice:__ All cells in your notebook will be run, start to finish, using a fresh kernel when it is graded! To make sure the graded notebook looks like what you expect, we recommend selecting \"Runtime > Restart session and run all\" from the menu above in Colab before you finish."
      ]
    },
    {
      "cell_type": "code",
      "execution_count": 2,
      "metadata": {
        "nbgrader": {
          "grade": false,
          "grade_id": "cell-54e460dda73947fa",
          "locked": true,
          "schema_version": 3,
          "solution": false,
          "task": false
        },
        "id": "e5remvUiJypA"
      },
      "outputs": [],
      "source": [
        "## Import cell\n",
        "\n",
        "%matplotlib inline\n",
        "import matplotlib.pyplot as plt\n",
        "import numpy as np"
      ]
    },
    {
      "cell_type": "markdown",
      "metadata": {
        "nbgrader": {
          "grade": false,
          "grade_id": "cell-06bff42e9e16d26f",
          "locked": true,
          "schema_version": 3,
          "solution": false,
          "task": false
        },
        "id": "p1RbftKPJypC"
      },
      "source": [
        "If you worked collaboratively on this assignment, __include the names of your collaborators in the cell below:__"
      ]
    },
    {
      "cell_type": "markdown",
      "metadata": {
        "id": "GeczI-AzJypC"
      },
      "source": [
        "..."
      ]
    },
    {
      "cell_type": "markdown",
      "metadata": {
        "nbgrader": {
          "grade": false,
          "grade_id": "cell-9bbcf2e8b7cbb637",
          "locked": true,
          "schema_version": 3,
          "solution": false,
          "task": false
        },
        "id": "Aa8NiJwAJypC"
      },
      "source": [
        "## 4.0 - Homework correction (3 points)\n",
        "\n",
        "In the cell below, explain and correct __one mistake__ you made on homework #2.  If you got a perfect score, great, tell us what your favorite problem was, or use the space to give any other feedback you might have on the class/tutorials/homework."
      ]
    },
    {
      "cell_type": "markdown",
      "metadata": {
        "nbgrader": {
          "grade": true,
          "grade_id": "hw6-correction",
          "locked": false,
          "points": 3,
          "schema_version": 3,
          "solution": true,
          "task": false
        },
        "id": "RnQbxNT_JypD"
      },
      "source": [
        "### For Me I'm ok in programming so this is just a review, I will try to giving a feedback since I get a full score in HW2, I think the pace of the content great but sometime confusing or it jsut me since I'm a bit strange I need some time to understand what I'm suppose to do\n"
      ]
    },
    {
      "cell_type": "markdown",
      "metadata": {
        "nbgrader": {
          "grade": false,
          "grade_id": "cell-80e20aacff77a032",
          "locked": true,
          "schema_version": 3,
          "solution": false,
          "task": false
        },
        "id": "-8P1gequJypD"
      },
      "source": [
        "### Important Note\n",
        "\n",
        "This week's homework is a little bit different than normal; __there is only one problem.__  You should think of this assignment as a \"mini-project\", building on everything we have learned so far.  Some of the question parts will be a little more open-ended.  This is intended to be a small warm-up for the final projects at the end of the semester."
      ]
    },
    {
      "cell_type": "markdown",
      "metadata": {
        "nbgrader": {
          "grade": false,
          "grade_id": "cell-5ee4274f038334b3",
          "locked": true,
          "schema_version": 3,
          "solution": false,
          "task": false
        },
        "id": "ZQZSbtixJypE"
      },
      "source": [
        "\n",
        "## 4.1 - Pendulum motion, beyond small angles (38 points)\n",
        "\n",
        "<!-- <img src=\"pendulum.png\" width=300px /> -->\n",
        "<img src=\"https://raw.githubusercontent.com/wlough/CU-Phys2600-Fall2025/main/homework/hw04/pendulum.png\" width=300px />\n",
        "\n",
        "The motion of a simple pendulum is given by the differential equation\n",
        "\n",
        "$$\n",
        "\\frac{d^2 \\theta}{dt^2} = -\\frac{g}{L} \\sin \\theta\n",
        "$$\n",
        "\n",
        "where $\\theta$ is the angle of the pendulum with the vertical, so at $\\theta = 0$ the pendulum hangs straight down (see drawing).  For simplicity, we'll assume the pendulum is released from rest at initial angle $\\theta_0$.\n",
        "\n",
        "\n",
        "### Part A (4 points)\n",
        "\n",
        "We will begin, as you did in introductory physics, with the _small-angle approximation_.  If we assume that $\\sin \\theta \\approx \\theta$ (which is, indeed, a good approximation at small enough $\\theta$), then the equation for $\\theta(t)$ becomes\n",
        "\n",
        "$$\n",
        "\\frac{d^2 \\theta}{dt^2} \\approx -\\frac{g}{L} \\theta\n",
        "$$\n",
        "\n",
        "which has the general solution\n",
        "\n",
        "$$\n",
        "\\theta(t) = \\theta_0 \\cos \\left(\\sqrt{\\frac{g}{L}} t \\right).\n",
        "$$\n",
        "\n",
        "In small-angle approximation, we can read off the period of oscillations $T$, which is just the time required for the argument of the cosine in $\\theta(t)$ to change by $2\\pi$:\n",
        "$$\n",
        "T = 2\\pi \\sqrt{\\frac{L}{g}}.\n",
        "$$\n",
        "\n",
        "In the cell below, I've given you values for $g$, $L$, and $\\theta_0$.  Using these values, __make a plot__ of $\\theta(t)$, and then __use the plot to check the formula for $T$__.\n",
        "\n",
        "(This problem is a bit more open-ended than in previous homeworks. That means _you_ decide how to use your plot to show that the formula for $T$ is correct!)"
      ]
    },
    {
      "cell_type": "code",
      "execution_count": 6,
      "metadata": {
        "nbgrader": {
          "grade": true,
          "grade_id": "cell-8873ee5b403c4aa0",
          "locked": false,
          "points": 4,
          "schema_version": 3,
          "solution": true,
          "task": false
        },
        "colab": {
          "base_uri": "https://localhost:8080/",
          "height": 430
        },
        "id": "JFOPtbSZJypE",
        "outputId": "b40b4980-998f-4cac-923d-66208f230f3c"
      },
      "outputs": [
        {
          "output_type": "display_data",
          "data": {
            "text/plain": [
              "<Figure size 640x480 with 1 Axes>"
            ],
            "image/png": "[encoded data removed]"
          },
          "metadata": {}
        }
      ],
      "source": [
        "g = 9.8  # m/s^2\n",
        "L = 2.0  # m\n",
        "theta_0 = 10 * np.pi / 180  # 10 degrees\n",
        "t = np.linspace(0, 10, 100) # Creating the time axis\n",
        "theta_t = theta_0 * np.cos(np.sqrt(g / L) * t) # this is the formula givin\n",
        "plt.plot(t, theta_t); # plotting"
      ]
    },
    {
      "cell_type": "markdown",
      "metadata": {
        "nbgrader": {
          "grade": false,
          "grade_id": "cell-6f6b56bc169f27e7",
          "locked": true,
          "schema_version": 3,
          "solution": false,
          "task": false
        },
        "id": "3kLGuE8gJypF"
      },
      "source": [
        "### Part B (6 points)\n",
        "\n",
        "Now let's try to do something new with our Python knowledge.  Suppose we'd like to know the total distance traveled by the pendulum bob after time $t$.  We can write it as an integral:\n",
        "\n",
        "$$\n",
        "D(t) = \\int ds = \\int L |d\\theta| \\\\\n",
        "= \\int dt \\left(L \\left| \\frac{d\\theta}{dt} \\right|\\right) \\\\\n",
        "= \\theta_0 \\sqrt{gL} \\int_0^t dt' \\left|\\sin \\left(\\sqrt{\\frac{g}{L}} t' \\right) \\right|.\n",
        "$$\n",
        "\n",
        "The absolute value makes this a bit unwieldy to deal with analytically, but it's easy to just do it numerically using the methods we've learned!\n",
        "\n",
        "In the cell below, __complete the function `dist_small_angle`__, which should compute $D(t)$ using the integral above.  The values of $g$, $L$, and $\\theta_0$ are set as global variables, so the function only depends on $t$ and (optionally) on $N$, the number of points to use for the integral.\n",
        "\n"
      ]
    },
    {
      "cell_type": "code",
      "execution_count": 7,
      "metadata": {
        "nbgrader": {
          "grade": false,
          "grade_id": "cell-af75ad38db2cebbf",
          "locked": false,
          "schema_version": 3,
          "solution": true,
          "task": false
        },
        "id": "_bsOvfaCJypF"
      },
      "outputs": [],
      "source": [
        "g = 9.8  # m/s^2\n",
        "L = 2.0  # m\n",
        "theta_0 = 10 * np.pi / 180  # 10 degrees\n",
        "\n",
        "\n",
        "def dist_small_angle(t, N=100):\n",
        "    t_int = np.linspace(0, t, N)\n",
        "    # YOUR IMPLEMENTATION HERE\n",
        "    D = theta_0 * np.sqrt(g * L) * np.sum(np.abs(np.sin(np.sqrt(g / L) * t_int)))\n",
        "    return D\n",
        "\n"
      ]
    },
    {
      "cell_type": "markdown",
      "metadata": {
        "nbgrader": {
          "grade": false,
          "grade_id": "cell-18004d05470dbe06",
          "locked": true,
          "schema_version": 3,
          "solution": false,
          "task": false
        },
        "id": "7lorBYlhJypF"
      },
      "source": [
        "One case for which it is simple to work out $D(t)$ is when $t=T$, the period of oscillation.  After one period of oscillation, the pendulum returns to its starting point at $\\theta_0$.  The total distance traveled is\n",
        "\n",
        "$$\n",
        "D(T) = 4L \\theta_0\n",
        "$$\n",
        "\n",
        "($L\\theta_0$ is the length of the arc between $\\theta=0$ and $\\theta_0$, which is traced out 4 times as the pendulum swings out to $\\theta = -\\theta_0$ and back to its starting point.)\n",
        "\n",
        "In the cell below, __make a plot__ showing $D(t)$ vs. $t$.  Your plot should use the provided linspace `t_plot` of 100 points, and should plot $D(t)$ as computed by `D_func`, which you can use with NumPy arrays thanks to `np.vectorize()`.  Your plot __must show the point__ $(T, D(T))$ using the formula above as a __red star__.  This point gives an important test of your code: the curve for $D(t)$ should go through it!\n"
      ]
    },
    {
      "cell_type": "code",
      "execution_count": 8,
      "metadata": {
        "nbgrader": {
          "grade": true,
          "grade_id": "cell-a7bffa243c096b72",
          "locked": false,
          "points": 6,
          "schema_version": 3,
          "solution": true,
          "task": false
        },
        "id": "WXVndrmXJypF"
      },
      "outputs": [],
      "source": [
        "t_plot = np.linspace(0, 4, 100)\n",
        "D_func = np.vectorize(dist_small_angle)\n",
        "plt.plot(t_plot, D_func(t_plot))\n",
        "plt.scatter(4, 4 * L * theta_0, color='r', marker='*')\n"
      ]
    },
    {
      "cell_type": "markdown",
      "metadata": {
        "nbgrader": {
          "grade": false,
          "grade_id": "cell-02820368a66e3b43",
          "locked": true,
          "schema_version": 3,
          "solution": false,
          "task": false
        },
        "id": "eiW5CoEjJypG"
      },
      "source": [
        "Now let's try to go _beyond_ the small-angle approximation.  Without it, there is no analytic solution for $\\theta(t)$!  However, we can still find solutions for properties of its motion in terms of (difficult) integrals.  In particular, the general formula for the period $T$ of a pendulum is\n",
        "\n",
        "$$\n",
        "T = 4 \\sqrt{\\frac{L}{2g}} \\int_0^{\\theta_0} \\frac{1}{\\sqrt{\\cos \\theta - \\cos \\theta_0}} d\\theta\n",
        "$$\n",
        "\n",
        "This integral has no analytic solution, but we can try to do it numerically.\n",
        "\n",
        "### Part C (5 points)\n",
        "\n",
        "Let's start by rewriting the formula above as two different pieces:\n",
        "$$\n",
        "T = 4 \\sqrt{\\frac{L}{2g}} \\int_0^{\\theta_0} I(\\theta, \\theta_0)\\ d\\theta \\\\\n",
        "I(\\theta, \\theta_0) = \\frac{1}{\\sqrt{\\cos \\theta - \\cos \\theta_0}}\n",
        "$$\n",
        "\n",
        "It will be instructive to look at the __integrand__ $I(\\theta, \\theta_0)$ itself, _before_ we actually try to do the integral.  In the cell below, __implement the function `penduluum_I(theta, theta_0)`__, which should\n",
        "calculate and return an array of values for $I(\\theta, \\theta_0)$."
      ]
    },
    {
      "cell_type": "code",
      "execution_count": null,
      "metadata": {
        "nbgrader": {
          "grade": false,
          "grade_id": "cell-5588269a19d9dc55",
          "locked": false,
          "schema_version": 3,
          "solution": true,
          "task": false
        },
        "id": "O-JcZpOYJypG"
      },
      "outputs": [],
      "source": [
        "def pendulum_I(theta, theta_0):\n",
        "    # YOUR IMPLEMENTATION HERE"
      ]
    },
    {
      "cell_type": "code",
      "execution_count": null,
      "metadata": {
        "nbgrader": {
          "grade": true,
          "grade_id": "cell-1352a64c38fe6c6e",
          "locked": true,
          "points": 3,
          "schema_version": 3,
          "solution": false,
          "task": false
        },
        "id": "4b90hX1LJypG"
      },
      "outputs": [],
      "source": [
        "## Tests for pendulum_I\n",
        "import numpy.testing as npt\n",
        "\n",
        "print(pendulum_I(np.pi / 2, np.pi))\n",
        "assert (pendulum_I(np.pi / 2, np.pi) - 1) <= 1e-6\n",
        "\n",
        "print(pendulum_I(np.array([0, np.pi / 4]), np.pi / 2))\n",
        "npt.assert_allclose(\n",
        "    pendulum_I(np.array([0, np.pi / 4]), np.pi / 2), np.array([1, 1.189]), atol=1e-3\n",
        ")"
      ]
    },
    {
      "cell_type": "markdown",
      "metadata": {
        "nbgrader": {
          "grade": false,
          "grade_id": "cell-fa47a1398dada65d",
          "locked": true,
          "schema_version": 3,
          "solution": false,
          "task": false
        },
        "id": "uS58IF26JypG"
      },
      "source": [
        "Now use `pendulum_I` to __plot the integrand__ with $\\theta_0 = \\pi/4$, over the range $\\theta =(0, \\theta_0)$ (the range of integration.)  Be mindful of the top end of the integration, and don't show the function too close to $\\theta_0$."
      ]
    },
    {
      "cell_type": "code",
      "execution_count": null,
      "metadata": {
        "nbgrader": {
          "grade": true,
          "grade_id": "cell-6a6c5020eace8c77",
          "locked": false,
          "points": 2,
          "schema_version": 3,
          "solution": true,
          "task": false
        },
        "id": "GFmWswarJypG"
      },
      "outputs": [],
      "source": [
        "th = np.linspace(0, np.pi / 4 - 1e-3, 100)\n",
        "I = pendulum_I(th, np.pi / 4)\n",
        "\n",
        "plt.plot(th, I)"
      ]
    },
    {
      "cell_type": "markdown",
      "metadata": {
        "nbgrader": {
          "grade": false,
          "grade_id": "cell-65b5ed0929581ce0",
          "locked": true,
          "schema_version": 3,
          "solution": false,
          "task": false
        },
        "id": "zPAYeuuzJypH"
      },
      "source": [
        "### Part D (6 points)\n",
        "\n",
        "Your plot should show that the integrand diverges at $\\theta = \\theta_0$, which happens because the denominator goes to zero.  We can't let division by zero happen in our numerical integration, so let's solve the problem by introducing a __cutoff__ to the integral.  Introducing a new parameter $\\delta$, we write:\n",
        "\n",
        "$$\n",
        "T(\\delta) \\equiv 4 \\sqrt{\\frac{L}{2g}} \\int_0^{\\theta_0 - \\delta} I(\\theta, \\theta_0)\\ d\\theta\n",
        "$$\n",
        "and then the answer we want is $T = \\lim_{\\delta \\rightarrow 0} T(\\delta)$.\n",
        "\n",
        "\n",
        "With our cutoff $\\delta$, we can evaluate the integral numerically for any $\\delta > 0$.  Then we hope that we can tune $\\delta$ small enough to get the answer about right!\n",
        "\n",
        "__Implement the function `pendulum_T_cutoff(theta_0, delta, num_points)` below__, which should return the period integral result $T(\\delta)$.  This function should use `np.trapezoid()` to calculate the integral.  We'll hard-code $L = 2$ meters for simplicity."
      ]
    },
    {
      "cell_type": "code",
      "execution_count": null,
      "metadata": {
        "nbgrader": {
          "grade": false,
          "grade_id": "cell-ea7f6e1ce0d009d4",
          "locked": false,
          "schema_version": 3,
          "solution": true,
          "task": false
        },
        "id": "-j0F3CayJypH"
      },
      "outputs": [],
      "source": [
        "def pendulum_T_cutoff(theta_0, delta=1e-3, num_points=100000):\n",
        "    g = 9.8  ## m/s^2\n",
        "    L = 2  ## m\n",
        "    # YOUR IMPLEMENTATION HERE"
      ]
    },
    {
      "cell_type": "code",
      "execution_count": null,
      "metadata": {
        "nbgrader": {
          "grade": true,
          "grade_id": "cell-cc6e035cf8556470",
          "locked": true,
          "points": 3,
          "schema_version": 3,
          "solution": false,
          "task": false
        },
        "id": "V2W2rjgOJypH"
      },
      "outputs": [],
      "source": [
        "# Testing cell\n",
        "import numpy.testing as npt\n",
        "\n",
        "print(pendulum_T_cutoff(np.pi / 32))\n",
        "npt.assert_allclose(pendulum_T_cutoff(np.pi / 32), 2.58, atol=0.1)\n",
        "\n",
        "old_pend_I = pendulum_I\n",
        "del pendulum_I\n",
        "\n",
        "try:\n",
        "    pendulum_T_cutoff(np.pi / 32)\n",
        "except NameError:\n",
        "    pass\n",
        "else:\n",
        "    raise AssertionError(\"pendulum_T does not call pendulum_I!\")\n",
        "finally:\n",
        "    pendulum_I = old_pend_I\n",
        "    del old_pend_I\n",
        "\n",
        "npt.assert_allclose(\n",
        "    pendulum_T_cutoff(np.pi / 32, delta=1e-5, num_points=10000), 2.815, atol=0.001\n",
        ")"
      ]
    },
    {
      "cell_type": "markdown",
      "metadata": {
        "nbgrader": {
          "grade": false,
          "grade_id": "cell-28e493c5db984ccf",
          "locked": true,
          "schema_version": 3,
          "solution": false,
          "task": false
        },
        "id": "Bia3-o5kJypH"
      },
      "source": [
        "### Part E (4 points)\n",
        "\n",
        "Now, let's see if we can get the right answer!  If we take a small enough value of $\\theta_0$, then the small-angle approximation should work and we should find\n",
        "\n",
        "$$\n",
        "T \\approx 2\\pi \\sqrt{\\frac{L}{g}} = 2.84\n",
        "$$\n",
        "\n",
        "plugging in $g = 9.8$ m/s${}^2$ and $L$=2m.\n",
        "\n",
        "For this test, take $\\theta_0 = \\pi/32$.  In the cell below,  use `pendulum_T_cutoff()` to compute $T$ for this value of $\\theta_0$.  __What value of `delta`__ gives you an answer which matches the small-angle answer of 2.84 to within an accuracy of 0.01?  (You don't need to find what _range_ of $\\delta$ values work - just find any one $\\delta$ which gives the right answer.)"
      ]
    },
    {
      "cell_type": "code",
      "execution_count": null,
      "metadata": {
        "nbgrader": {
          "grade": true,
          "grade_id": "cell-585cc72b171fc441",
          "locked": false,
          "points": 3,
          "schema_version": 3,
          "solution": true,
          "task": false
        },
        "scrolled": true,
        "id": "7-VqrvpBJypH"
      },
      "outputs": [],
      "source": [
        "#"
      ]
    },
    {
      "cell_type": "markdown",
      "metadata": {
        "nbgrader": {
          "grade": false,
          "grade_id": "cell-b223bdffb35a5cc0",
          "locked": true,
          "schema_version": 3,
          "solution": false,
          "task": false
        },
        "id": "oRtgNF7wJypH"
      },
      "source": [
        "So far, so good.  But for us to trust the result of our calculation, we should be able to take the limit $\\delta \\rightarrow 0$.  In the cell below, __run `pendulum_T_cutoff()` with a smaller value of `delta`__ - take the `delta` you used in the previous cell, and divide it by 1000.  If you don't see much of a change, divide it by $10^6$ instead."
      ]
    },
    {
      "cell_type": "code",
      "execution_count": null,
      "metadata": {
        "nbgrader": {
          "grade": true,
          "grade_id": "cell-fdede8bdad6af33c",
          "locked": false,
          "points": 1,
          "schema_version": 3,
          "solution": true,
          "task": false
        },
        "id": "NDUbFnThJypI"
      },
      "outputs": [],
      "source": [
        "#"
      ]
    },
    {
      "cell_type": "markdown",
      "metadata": {
        "nbgrader": {
          "grade": false,
          "grade_id": "cell-8150a18492cfa53f",
          "locked": true,
          "schema_version": 3,
          "solution": false,
          "task": false
        },
        "id": "OomJ07H-JypI"
      },
      "source": [
        "What you should see is __numerical instability__; there is no stable $\\delta \\rightarrow 0$ limit here!  The contribution of the divergent part of the integrand is so large that it's very hard to deal with just by throwing points at it or cutting it off, basically."
      ]
    },
    {
      "cell_type": "markdown",
      "metadata": {
        "nbgrader": {
          "grade": false,
          "grade_id": "cell-b57c2b66fd2cdc14",
          "locked": true,
          "schema_version": 3,
          "solution": false,
          "task": false
        },
        "id": "sn_VNXVhJypI"
      },
      "source": [
        "### Part F (6 points)\n",
        "\n",
        "Since the cutoff method fails badly here, we should try to change variables instead!  It's not so obvious how to find a good change here, but this is a well-known problem, so the answer is well-known too:\n",
        "\n",
        "$$\n",
        "T = 4 \\sqrt{\\frac{L}{g}} \\int_0^{\\pi/2} \\frac{d\\phi}{\\sqrt{1-\\sin^2(\\theta_0/2) \\sin^2 \\phi}}\n",
        "$$\n",
        "\n",
        "This makes the integral nice and finite - the denominator doesn't blow up since $\\sin^2(\\theta_0/2)$ is always less than 1.  (This particular form of the integral is an example of an __elliptic integral__.)\n",
        "\n",
        "__Implement the function `pendulum_T(theta_0, num_points)` below,__ which should use the transformed integral to calculate and return the period $T$.\n"
      ]
    },
    {
      "cell_type": "code",
      "execution_count": null,
      "metadata": {
        "nbgrader": {
          "grade": false,
          "grade_id": "cell-b0fe6f4b037ecd20",
          "locked": false,
          "schema_version": 3,
          "solution": true,
          "task": false
        },
        "id": "_XhCzU80JypI"
      },
      "outputs": [],
      "source": [
        "def pendulum_T(theta_0, num_points=1000):\n",
        "    g = 9.8  ## m/s^2\n",
        "    L = 2  ## m\n",
        "\n",
        "    # YOUR IMPLEMENTATION HERE"
      ]
    },
    {
      "cell_type": "code",
      "execution_count": null,
      "metadata": {
        "nbgrader": {
          "grade": true,
          "grade_id": "cell-3e5db4465dcd678e",
          "locked": true,
          "points": 3,
          "schema_version": 3,
          "solution": false,
          "task": false
        },
        "id": "zAhj1cijJypI"
      },
      "outputs": [],
      "source": [
        "npt.assert_allclose(pendulum_T(np.pi / 6), 2.888, atol=0.001)\n",
        "npt.assert_allclose(pendulum_T(np.pi / 3), 3.046, atol=0.001)"
      ]
    },
    {
      "cell_type": "markdown",
      "metadata": {
        "nbgrader": {
          "grade": false,
          "grade_id": "cell-e6b7f54d1fc0c67f",
          "locked": true,
          "schema_version": 3,
          "solution": false,
          "task": false
        },
        "id": "_MgGjkR0JypI"
      },
      "source": [
        "### Part G (4 points)\n",
        "\n",
        "Now that we have a working and stable function to calculate the period, let's use our knowledge of string formatting to make it a little more user-friendly.  To do this, we will write a \"__wrapper function__\": that is, a new function that calls `pendulum_T` and then formats the results as a string.\n",
        "\n",
        "__Implement the function `report_pendulum_T()`__ in the cell below.  It should call `pendulum_T()` to calculate the period for the given `theta_0` and `num_points`, and then __return a string__ which looks like the following:\n",
        "\n",
        "```\n",
        "T(theta = 0.1000) = 2.840\n",
        "```\n",
        "\n",
        "where the first number is the value of `theta_0`, printed with 4 digits after the decimal point, and the second number is the calculated period $T$ with 3 digits after the decimal."
      ]
    },
    {
      "cell_type": "code",
      "execution_count": null,
      "metadata": {
        "nbgrader": {
          "grade": false,
          "grade_id": "cell-fc9c9242dcc19966",
          "locked": false,
          "schema_version": 3,
          "solution": true,
          "task": false
        },
        "id": "frX_8JeyJypI"
      },
      "outputs": [],
      "source": [
        "def report_pendulum_T(theta_0, num_points=1000):\n",
        "    # YOUR IMPLEMENTATION HERE"
      ]
    },
    {
      "cell_type": "code",
      "execution_count": null,
      "metadata": {
        "nbgrader": {
          "grade": true,
          "grade_id": "cell-6ffa7a8ddaa5e4db",
          "locked": true,
          "points": 4,
          "schema_version": 3,
          "solution": false,
          "task": false
        },
        "id": "6jyy4AkxJypI"
      },
      "outputs": [],
      "source": [
        "print(report_pendulum_T(0.1))\n",
        "print(report_pendulum_T(np.pi / 2))\n",
        "\n",
        "assert report_pendulum_T(0.1) == \"T(theta = 0.1000) = 2.840\"\n",
        "assert report_pendulum_T(np.pi / 2) == \"T(theta = 1.5708) = 3.350\""
      ]
    },
    {
      "cell_type": "markdown",
      "metadata": {
        "nbgrader": {
          "grade": false,
          "grade_id": "cell-c02557b910a05bd2",
          "locked": true,
          "schema_version": 3,
          "solution": false,
          "task": false
        },
        "id": "l7m7-ZHhJypJ"
      },
      "source": [
        "Finally, a victory lap: __run the cell below__ to plot your numerical integral result for $T(\\theta_0)$ against the small-angle answer.  You should, of course, see them come together at small $\\theta_0$ - now you can see how small the angle really has to be for this approximation to work!"
      ]
    },
    {
      "cell_type": "code",
      "execution_count": null,
      "metadata": {
        "id": "Qrx_JPDNJypJ"
      },
      "outputs": [],
      "source": [
        "theta_zeros = np.linspace(np.pi / 16, np.pi - np.pi / 16, 14)\n",
        "p_T_vec = np.vectorize(pendulum_T)\n",
        "\n",
        "plt.plot(theta_zeros, p_T_vec(theta_zeros))\n",
        "plt.axhline(small_angle_T, color=\"r\")\n",
        "plt.xlabel(r\"$\\theta_0$\")  ## TeX math notation\n",
        "plt.ylabel(\"T\")"
      ]
    }
  ],
  "metadata": {
    "celltoolbar": "Create Assignment",
    "kernelspec": {
      "display_name": "Python 3 (ipykernel)",
      "language": "python",
      "name": "python3"
    },
    "language_info": {
      "codemirror_mode": {
        "name": "ipython",
        "version": 3
      },
      "file_extension": ".py",
      "mimetype": "text/x-python",
      "name": "python",
      "nbconvert_exporter": "python",
      "pygments_lexer": "ipython3",
      "version": "3.13.7"
    },
    "nbgrader": {
      "__altered": false,
      "__hash": 853781301,
      "_root": {
        "entries": [
          [
            "size",
            1
          ],
          [
            "_root",
            {
              "entries": [
                [
                  "cocalc_minimal_stubs",
                  true
                ]
              ],
              "ownerID": {}
            }
          ],
          [
            "__ownerID",
            null
          ],
          [
            "__hash",
            912286151
          ],
          [
            "__altered",
            false
          ],
          [
            "cocalc_minimal_stubs",
            true
          ]
        ],
        "ownerID": {}
      },
      "cocalc_minimal_stubs": true,
      "size": 6
    },
    "colab": {
      "provenance": []
    }
  },
  "nbformat": 4,
  "nbformat_minor": 0
}