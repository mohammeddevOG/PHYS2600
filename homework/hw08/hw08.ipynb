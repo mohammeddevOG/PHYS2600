{
  "cells": [
    {
      "cell_type": "markdown",
      "metadata": {
        "nbgrader": {
          "grade": false,
          "grade_id": "cell-053f09c8a8a514e5",
          "locked": true,
          "schema_version": 1,
          "solution": false
        },
        "id": "WQEOtUuLiBPY"
      },
      "source": [
        "# Homework 8\n",
        "\n",
        "## PHYS 2600\n",
        "\n",
        "__Important notice:__ All cells in your notebook will be run, start to finish, using a fresh kernel when it is graded! To make sure the graded notebook looks like what you expect, we recommend selecting \"Runtime > Restart session and run all\" from the menu above in Colab before you finish."
      ]
    },
    {
      "cell_type": "code",
      "execution_count": 1,
      "metadata": {
        "nbgrader": {
          "grade": false,
          "grade_id": "cell-0a8da221583b2c3d",
          "locked": true,
          "schema_version": 1,
          "solution": false
        },
        "id": "X1AtenGjiBPZ"
      },
      "outputs": [],
      "source": [
        "%matplotlib inline\n",
        "\n",
        "import matplotlib.pyplot as plt\n",
        "import numpy as np"
      ]
    },
    {
      "cell_type": "markdown",
      "metadata": {
        "nbgrader": {
          "grade": false,
          "grade_id": "cell-06bff42e9e16d26f",
          "locked": true,
          "schema_version": 1,
          "solution": false
        },
        "id": "E0Ss1ZuoiBPa"
      },
      "source": [
        "If you worked collaboratively on this assignment, __include the names of your collaborators in the cell below:__"
      ]
    },
    {
      "cell_type": "markdown",
      "metadata": {
        "id": "OmVwRwKhiBPa"
      },
      "source": []
    },
    {
      "cell_type": "markdown",
      "metadata": {
        "nbgrader": {
          "grade": false,
          "grade_id": "cell-9bbcf2e8b7cbb637",
          "locked": true,
          "schema_version": 1,
          "solution": false
        },
        "id": "LpdSiBy2iBPa"
      },
      "source": [
        "## 8.0 - Homework correction (3 points)\n",
        "\n",
        "In the cell below, explain and correct __one mistake__ you made on homework #6.  If you got a perfect score, great, tell us what your favorite problem was, or use the space to give any other feedback you might have on the class/tutorials/homework."
      ]
    },
    {
      "cell_type": "markdown",
      "metadata": {
        "nbgrader": {
          "grade": true,
          "grade_id": "hw9-correction",
          "locked": false,
          "points": 3,
          "schema_version": 1,
          "solution": true
        },
        "id": "FbBqsmlyiBPa"
      },
      "source": []
    },
    {
      "cell_type": "markdown",
      "metadata": {
        "nbgrader": {
          "grade": false,
          "grade_id": "cell-faff93794df1c141",
          "locked": true,
          "schema_version": 1,
          "solution": false
        },
        "id": "kg2CkUnEiBPa"
      },
      "source": [
        "## 8.1 - Hitting the mark with air resistance (41 points)\n",
        "\n",
        "_(Note: __this is the only problem on this week's homework!__  Think of this as a miniature version of the projects that you'll be doing at the end of the semester.  You should start early to make sure you have time to chat with other students if you get stuck...)_\n",
        "\n",
        "We've done a number of kinematics problems, but most of them didn't include anything you didn't already know the answer to.  Now that we can solve ODEs, we can go far beyond what pen and paper can do!\n",
        "\n",
        "Let's consider __two-dimensional kinematics with air resistance.__ For relatively small speeds (and/or small objects), the effect of air resistance is to give a _drag_ force which is proportional to the speed:\n",
        "\n",
        "$$\n",
        "\\mathbf{F}_{\\rm drag} = -b\\mathbf{v}\n",
        "$$\n",
        "\n",
        "For larger objects and higher speeds, a _quadratic_ drag force becomes important,\n",
        "\n",
        "$$\n",
        "\\mathbf{F}_{\\rm drag, quad} = - cv\\mathbf{v}\n",
        "$$\n",
        "\n",
        "(where $c$ itself depends on some things like [air density and the size of our object](http://hyperphysics.phy-astr.gsu.edu/hbase/airfri.html), but we'll just assume those are all fixed.)  The units of $b$ are kg/s, and for $c$ we have kg/m.\n",
        "\n",
        "If we add in gravity as well, the two-dimensional kinematic equations are, split into x- and y-components,\n",
        "\n",
        "$$\n",
        "m \\frac{d^2x}{dt^2} = -bv_x -  c v_x \\sqrt{v_x^2 + v_y^2}\n",
        "$$\n",
        "$$\n",
        "m \\frac{d^2y}{dt^2} = -mg - bv_y -  c v_y \\sqrt{v_x^2 + v_y^2}\n",
        "$$\n",
        "\n",
        "### Part A (12 points)\n",
        "\n",
        "To solve this as an initial-value problem using our ODE methods, we need to split this into _four first-order ODEs_ for the quantities $x$, $v_x$, $y$ and $v_y$.  That's easy enough to do:\n",
        "\n",
        "$$\n",
        "\\frac{dx}{dt} = v_x\n",
        "$$\n",
        "$$\n",
        "\\frac{dy}{dt} = v_y\n",
        "$$\n",
        "$$\n",
        "\\frac{dv_x}{dt} = -bv_x - cv_x \\sqrt{v_x^2 + v_y^2}\n",
        "$$\n",
        "$$\n",
        "\\frac{dv_y}{dt} = -mg - bv_y - cv_y \\sqrt{v_x^2 + v_y^2}\n",
        "$$\n",
        "\n",
        "Following the procedure described in lecture, we now convert to finite-difference equations by using the first-order forward discrete derivative assuming we've made everything into a discrete set of samples $t_i, x_i, y_i...$, with a fixed grid spacing $\\Delta t$ between our points in time.\n",
        "\n",
        "For example, we replace\n",
        "\n",
        "$$\n",
        "\\frac{dx}{dt} \\rightarrow \\frac{x_{i+1} - x_i}{\\Delta t}\n",
        "$$\n",
        "\n",
        "which converts the first equation above into\n",
        "\n",
        "$$\n",
        "x_{i+1} = x_i + v_{x,i} \\Delta t\n",
        "$$\n",
        "\n",
        "__In the Markdown cell below, write out the other three finite-difference equations using TeX math:__\n",
        "\n",
        "$$\n",
        "y_{i+1} = ?\n",
        "$$\n",
        "$$\n",
        "v_{x,i+1} = ?\n",
        "$$\n",
        "$$\n",
        "v_{y,i+1} = ?\n",
        "$$\n",
        "\n",
        "(Remember, you can double-click on this cell to copy the Markdown source for those equations; then fill out the right-hand sides.)"
      ]
    },
    {
      "cell_type": "markdown",
      "metadata": {
        "nbgrader": {
          "grade": true,
          "grade_id": "8_1a",
          "locked": false,
          "points": 6,
          "schema_version": 1,
          "solution": true
        },
        "id": "vPm6jEL6iBPa"
      },
      "source": [
        "...Your answer here..."
      ]
    },
    {
      "cell_type": "markdown",
      "metadata": {
        "nbgrader": {
          "grade": false,
          "grade_id": "cell-851f4e888cebe4f9",
          "locked": true,
          "schema_version": 1,
          "solution": false
        },
        "id": "liHHmmi0iBPa"
      },
      "source": [
        "### Part B (15 points)\n",
        "\n",
        "Now that we have equations, we can use the __forward Euler method__ to solve them, as we did in previous tutorials:\n",
        "\n",
        "* Evaluate the right-hand side of the difference equations at step $i$;\n",
        "* Store the results as the value of each variable at step $i+1$;\n",
        "* Repeat for the next step, until we reach the end of the trajectory.\n",
        "\n",
        "For simplicity, we'll fix $g = 9.8\\ m/s^2$ and $m = 1$ kg, and the motion will always start from $(x_0, y_0) = (0,0)$."
      ]
    },
    {
      "cell_type": "markdown",
      "metadata": {
        "nbgrader": {
          "grade": false,
          "grade_id": "cell-4bcfb8a645b12d9d",
          "locked": true,
          "schema_version": 1,
          "solution": false
        },
        "id": "pWU2_xV-iBPa"
      },
      "source": [
        "__Implement the function `solve_motion(t, b, c, v_0)` below__, which should solve the kinematic equations you wrote down in part A taking the following inputs:\n",
        "\n",
        "* `b` and `c`, the drag coefficients appearing above;\n",
        "* `t`, a discrete list of time values over which we'll be solving the equation.  (For example, if we want to solve the motion for 5 seconds using 200 steps, we would call `solve_motion` with `t=np.linspace(0,5,200)`.)\n",
        "*  `v_0` is a length-two tuple containing the initial conditions for speed in both x and y, in the form `v_0 = (v_x0, v_y0)`.\n",
        "\n",
        "The function __should return two arrays `x` and `y`__ which contain the results for the trajectory at each timestep, $x_i$ and $y_i$.\n",
        "\n",
        "\n",
        "(__Hint:__ if you get stuck planning out the function `solve_motion`, try to follow what we did on tutorial 13: write a separate function `compute_next_step(x, y, vx, vy, dt)` that returns `(next_x, next_y, next_vx, next_vy)`, and then incorporate that into your big function `solve_motion`.)"
      ]
    },
    {
      "cell_type": "code",
      "execution_count": 2,
      "metadata": {
        "nbgrader": {
          "grade": true,
          "grade_id": "8_1b_solver",
          "locked": false,
          "points": 6,
          "schema_version": 1,
          "solution": true
        },
        "id": "vJdVeZukiBPb"
      },
      "outputs": [],
      "source": [
        "def solve_motion(t, v_0, b, c):\n",
        "    \"\"\"\n",
        "    Args:\n",
        "        t: 1D array of time values.\n",
        "        v_0: Tuple (v_x0, v_y0) giving the initial velocity components at t[0].\n",
        "        b: Linear drag coefficient, used in the force term -b*v.\n",
        "        c: Quadratic drag coefficient, used in the force term -c*|v|*v.\n",
        "\n",
        "    Returns:\n",
        "        (x, y): Two 1D NumPy arrays, same shape as `t`, containing the x- and y-positions\n",
        "        at each time step.\n",
        "    \"\"\"\n",
        "\n",
        "    g = 9.8  # m/s^2\n",
        "    m = 1  # kg\n",
        "\n",
        "    dt = t[1] - t[0]  # time step\n",
        "\n",
        "    # init the arrays\n",
        "    x = np.zeros_like(t)\n",
        "    y = np.zeros_like(t)\n",
        "    vx = np.zeros_like(t)\n",
        "    vy = np.zeros_like(t)\n",
        "\n",
        "    # Setting the nought point\n",
        "    x[0] = 0\n",
        "    y[0] = 0\n",
        "    vx[0] = v_0[0]\n",
        "    vy[0] = v_0[1]\n",
        "\n",
        "    # Forward Euler method\n",
        "    for i in range(len(t) - 1):\n",
        "        v_mag = np.sqrt(vx[i]**2 + vy[i]**2)\n",
        "\n",
        "        # Calculate accelerations\n",
        "        ax = (-b * vx[i] - c * vx[i] * v_mag) / m\n",
        "        ay = (-m * g - b * vy[i] - c * vy[i] * v_mag) / m\n",
        "\n",
        "        # Update position and velocity\n",
        "        vx[i+1] = vx[i] + ax * dt\n",
        "        vy[i+1] = vy[i] + ay * dt\n",
        "        x[i+1] = x[i] + vx[i] * dt\n",
        "        y[i+1] = y[i] + vy[i] * dt\n",
        "\n",
        "    return x, y"
      ]
    },
    {
      "cell_type": "markdown",
      "metadata": {
        "nbgrader": {
          "grade": false,
          "grade_id": "cell-64b8040f1e25998e",
          "locked": true,
          "schema_version": 1,
          "solution": false
        },
        "id": "41fA5OKliBPb"
      },
      "source": [
        "There are a couple of simple tests that you can run to make sure things are working correctly in your solver above:\n",
        "\n",
        "* If you set both `b` and `c` to zero, you should get regular motion with no drag.  In particular, remember that the range of a projectile fired from the origin with no drag is:\n",
        "\n",
        "$$\n",
        "R = \\frac{v_0^2 \\sin (2\\theta)}{g}\n",
        "$$\n",
        "\n",
        "* If `c` is zero but `b` is not, then the motion [can be solved analytically](http://farside.ph.utexas.edu/teaching/336k/Newtonhtml/node29.html) _(be aware: the link uses different notation than we do!)_.  In particular, in the limit that `b` is very large, the range becomes\n",
        "\n",
        "$$\n",
        "R = \\frac{m v_0 \\cos \\theta}{b}\n",
        "$$\n",
        "\n",
        "If we set the initial speed to $(v_x, v_y) = (3,3)$ m/s, then $v_0 = 3\\sqrt{2} = 4.243$ m/s.  Plugging in numbers, we can find\n",
        "\n",
        "$$\n",
        "R = 1.837\\ \\rm{m}\\ \\ \\textrm{(no drag)}\n",
        "$$\n",
        "$$\n",
        "R = 0.100\\ \\rm{m}\\ \\ (\\textrm{extreme drag}, b = 30\\ \\rm{kg/s})\n",
        "$$\n",
        "\n",
        "Make sure your numerical solution gets both of these right!  I've given you a range-finding function below that takes x,y trajectories as `solve_motion` should return them."
      ]
    },
    {
      "cell_type": "code",
      "execution_count": 3,
      "metadata": {
        "nbgrader": {
          "grade": false,
          "grade_id": "cell-fd5a0669d7f559d1",
          "locked": true,
          "schema_version": 1,
          "solution": false
        },
        "id": "lRFqEkJoiBPb"
      },
      "outputs": [],
      "source": [
        "# Range-finder for trajectories (x(t), y(t)).\n",
        "# Note that this will have a numerical error depending on dt.\n",
        "# If your answer looks wrong, first try adding more steps!\n",
        "\n",
        "\n",
        "def find_range(x, y):\n",
        "\n",
        "    # Cut off the first few entries, since y starts\n",
        "    # at exactly zero and we don't want to find x=0!\n",
        "    i_zero = np.abs(y[3:]).argmin()\n",
        "    i_zero += 3  # i_zero is off by 3 since we cut off y; fix it!\n",
        "\n",
        "    return x[i_zero]"
      ]
    },
    {
      "cell_type": "markdown",
      "metadata": {
        "nbgrader": {
          "grade": false,
          "grade_id": "cell-d39bce00504ccd33",
          "locked": true,
          "schema_version": 1,
          "solution": false
        },
        "id": "p6SpgsfviBPb"
      },
      "source": [
        "In the cell below, check your code by __calculating the motion for `b=0`, `c=0`__ over a time range of 5 seconds.  __Plot the trajectory__ and make sure it looks reasonable.  Then in the next cell, __use `find_range` to check the range__ against the formula above.\n",
        "\n",
        "(You may write an automatic test with `assert` or `numpy.testing.assert_allclose`, or you can check the range by hand.  But show your work either way!)"
      ]
    },
    {
      "cell_type": "code",
      "execution_count": 5,
      "metadata": {
        "nbgrader": {
          "grade": true,
          "grade_id": "8_1b_plot1",
          "locked": false,
          "points": 2,
          "schema_version": 1,
          "solution": true
        },
        "colab": {
          "base_uri": "https://localhost:8080/",
          "height": 447
        },
        "id": "4muiLp7TiBPb",
        "outputId": "0e73b4fb-e5a0-47d5-9d5b-9a89a1e8d552"
      },
      "outputs": [
        {
          "output_type": "execute_result",
          "data": {
            "text/plain": [
              "[<matplotlib.lines.Line2D at 0x7e4a5b937710>]"
            ]
          },
          "metadata": {},
          "execution_count": 5
        },
        {
          "output_type": "display_data",
          "data": {
            "text/plain": [
              "<Figure size 640x480 with 1 Axes>"
            ],
            "image/png": "[encoded data removed]"
          },
          "metadata": {}
        }
      ],
      "source": [
        "# Check/plot your solver for b=0, c=0 here\n",
        "\n",
        "#\n",
        "t=np.linspace(0,5,200)\n",
        "m = solve_motion(t, (3, 3), b=0, c=0)\n",
        "\n",
        "plt.plot(m[0], m[1])"
      ]
    },
    {
      "cell_type": "code",
      "execution_count": 6,
      "metadata": {
        "nbgrader": {
          "grade": true,
          "grade_id": "8_1b_range1",
          "locked": false,
          "points": 2,
          "schema_version": 1,
          "solution": true
        },
        "colab": {
          "base_uri": "https://localhost:8080/"
        },
        "id": "ndYKZs8tiBPb",
        "outputId": "9ca5c0ed-3b66-4004-cf08-cb4f47828c3d"
      },
      "outputs": [
        {
          "output_type": "execute_result",
          "data": {
            "text/plain": [
              "np.float64(1.8844221105527639)"
            ]
          },
          "metadata": {},
          "execution_count": 6
        }
      ],
      "source": [
        "# Test the range against the analytic result here!\n",
        "known_R = 1.837\n",
        "\n",
        "#\n",
        "find_range(m[0], m[1]) # Make sense it's close enough to R"
      ]
    },
    {
      "cell_type": "markdown",
      "metadata": {
        "nbgrader": {
          "grade": false,
          "grade_id": "cell-5b4d80b268431556",
          "locked": true,
          "schema_version": 1,
          "solution": false
        },
        "id": "zGcMqqRgiBPb"
      },
      "source": [
        "Now, air resistance!  In the cell below, check your code by __calculating the motion for `b=30` kg/s, `c=0`__ over a time range of 5 seconds.  __Plot the trajectory__ and make sure it looks reasonable.  Then in the next cell, __use `find_range` to check the range__ against the formula above.\n",
        "\n",
        "(You may write an automatic test with `assert` or `numpy.testing.assert_allclose`, or you can check the range by hand.  But show your work either way!)"
      ]
    },
    {
      "cell_type": "code",
      "execution_count": 7,
      "metadata": {
        "nbgrader": {
          "grade": true,
          "grade_id": "8_1b_plot2",
          "locked": false,
          "points": 2,
          "schema_version": 1,
          "solution": true
        },
        "colab": {
          "base_uri": "https://localhost:8080/",
          "height": 447
        },
        "id": "dUITC7nQiBPb",
        "outputId": "e507b2f5-b7de-4c7d-861e-1f4a38d9f5e6"
      },
      "outputs": [
        {
          "output_type": "execute_result",
          "data": {
            "text/plain": [
              "[<matplotlib.lines.Line2D at 0x7e4a5b8bdbe0>]"
            ]
          },
          "metadata": {},
          "execution_count": 7
        },
        {
          "output_type": "display_data",
          "data": {
            "text/plain": [
              "<Figure size 640x480 with 1 Axes>"
            ],
            "image/png": "[encoded data removed]"
          },
          "metadata": {}
        }
      ],
      "source": [
        "# Check/plot your solution for b=30 kg/s, c=0  here\n",
        "\n",
        "#\n",
        "t=np.linspace(0,5,200)\n",
        "m = solve_motion(t, (3, 3), b=30, c=0)\n",
        "\n",
        "plt.plot(m[0], m[1])"
      ]
    },
    {
      "cell_type": "code",
      "execution_count": 8,
      "metadata": {
        "nbgrader": {
          "grade": true,
          "grade_id": "8_1b_range2",
          "locked": false,
          "points": 2,
          "schema_version": 1,
          "solution": true
        },
        "colab": {
          "base_uri": "https://localhost:8080/"
        },
        "id": "CpZDJyWEiBPb",
        "outputId": "7292ab47-c551-4c91-fa55-e5df3f5e7620"
      },
      "outputs": [
        {
          "output_type": "execute_result",
          "data": {
            "text/plain": [
              "np.float64(0.09999999969883668)"
            ]
          },
          "metadata": {},
          "execution_count": 8
        }
      ],
      "source": [
        "# Test the range against the analytic result here!\n",
        "known_R = 0.100\n",
        "\n",
        "#\n",
        "find_range(m[0], m[1]) # Make sense it's close enough to R"
      ]
    },
    {
      "cell_type": "code",
      "execution_count": 9,
      "metadata": {
        "nbgrader": {
          "grade": true,
          "grade_id": "8_1b_hidden",
          "locked": true,
          "points": 4,
          "schema_version": 1,
          "solution": false
        },
        "colab": {
          "base_uri": "https://localhost:8080/"
        },
        "id": "o445UfjniBPc",
        "outputId": "3a31d3a4-4d90-4c00-d362-ac21bd78398a"
      },
      "outputs": [
        {
          "output_type": "stream",
          "name": "stdout",
          "text": [
            "x1[0:10] =  [0.         0.00075004 0.00150008 0.00225011 0.00300015 0.00375019\n",
            " 0.00450023 0.00525026 0.0060003  0.00675034]\n",
            "y1[0:10] =  [0.         0.00075004 0.00149946 0.00224827 0.00299647 0.00374406\n",
            " 0.00449104 0.0052374  0.00598315 0.00672829]\n",
            "x2[0:10] =  [0.         0.00075004 0.00149445 0.00223328 0.00296657 0.00369435\n",
            " 0.00441668 0.00513359 0.00584513 0.00655132]\n",
            "y2[0:10] =  [0.         0.00075004 0.00149384 0.00223144 0.00296291 0.00368827\n",
            " 0.00440758 0.00512089 0.00582823 0.00652965]\n"
          ]
        }
      ],
      "source": [
        "# testing cell\n",
        "import numpy.testing as npt\n",
        "\n",
        "t = np.linspace(0, 5, 20000)\n",
        "x1, y1 = solve_motion(t, (3, 3), b=0, c=0)\n",
        "x2, y2 = solve_motion(t, (3, 3), b=30, c=0)\n",
        "\n",
        "print(\"x1[0:10] = \", x1[0:10])\n",
        "print(\"y1[0:10] = \", y1[0:10])\n",
        "print(\"x2[0:10] = \", x2[0:10])\n",
        "print(\"y2[0:10] = \", y2[0:10])\n",
        "\n",
        "npt.assert_allclose(x1[y1 >= 0][-1], 1.837, atol=1e-3)\n",
        "npt.assert_allclose(x2[y2 >= 0][-1], 0.100, atol=1e-3)\n",
        "\n",
        "npt.assert_allclose(y1[1000], 0.444, atol=1e-3)\n",
        "npt.assert_allclose(y2[1000], 0.029, atol=1e-3)"
      ]
    },
    {
      "cell_type": "markdown",
      "metadata": {
        "nbgrader": {
          "grade": false,
          "grade_id": "cell-7e6483932d9ac3c7",
          "locked": true,
          "schema_version": 1,
          "solution": false
        },
        "id": "Ogh_3XIMiBPc"
      },
      "source": [
        "### Part C (14 points)\n",
        "\n",
        "Now, the grand finale.  You are given a projectile with drag coefficients $b = 0.7$ kg/s and $c = 0.2$ kg/m; the mass is still 1 kg as we've assumed before.  __There are two targets:__\n",
        "\n",
        "* Target 1 is on the ground at $(x,y) = (3,0)$;\n",
        "* Target 2 is at $(x,y) = (2,2)$.\n",
        "<!-- * Target 2 is at $(x,y) = (0.5,1)$; -->\n",
        "\n",
        "Adjusting both the initial speed and angle, there are an _infinite_ number of solutions to this problem!  So let's simplify by saying __the initial launch speed is 12 m/s__.  Assume the targets have __zero width and height__: you must hit the exact coordinates above as closely as possible.  Also, ignore collisions, i.e. you don't have to worry about whether your shot hits a different target than the one you're aiming at.\n",
        "\n",
        "__Find the launch angles $\\theta_1, \\theta_2$ (in radians) needed to hit each of the two targets:__ save your answers in the variables `theta_1`, `theta_2` below.  Your answers will be checked to within _three digits of accuracy after the decimal._\n",
        "\n",
        "There are no tests for this problem, and no guidelines; all you need to do is hit the targets.  (The only rule is that you must _show your work_ and your code here has to find the angles, i.e. you can't use some other program to solve this and just plug in the numerical values below.)\n",
        "\n",
        "_(Hint: you should recognize this as a boundary-value problem.  In fact, since we're literally shooting at targets, this seems like an ideal candidate for shooting!)_\n",
        "\n",
        "_(Another hint: just making plots of where the projectile goes for various choices of the angle is probably a good place to start!)_\n",
        "\n"
      ]
    },
    {
      "cell_type": "markdown",
      "metadata": {
        "nbgrader": {
          "grade": false,
          "grade_id": "cell-7945030b0067f7b8",
          "locked": true,
          "schema_version": 1,
          "solution": false
        },
        "id": "wYw6P-GdiBPc"
      },
      "source": [
        "__Tricky things you should watch out for:__\n",
        "\n",
        "1. Now we're evolving in _time_, but our boundary exists in _position_.  So we don't know before starting how many seconds we need to calculate for!  Make sure your `t`-range is long enough that it isn't messing up your shooting solver...\n",
        "\n",
        "2. Checking the boundary is trickier than for the Schrodinger equation: first we need to find the timestep where our solution for `x` crosses `x_target`, and _then_ we can check how far `y` is from `y_target`.  How can you find the timestep?  Well, this sounds very similar to what I did up in `find_range` above, where we found the timestep where the difference between `y` and 0 was smallest...\n",
        "\n",
        "3. There are _two_ values of $\\theta$ that will hit each of the targets; either solution is fine, although some of them are a little trickier to find and may require a good initial guess.\n",
        "\n",
        "4. Since there are multiple solutions, a bisection root-finder is hard to use here. The `scipy.optimize.newton` function is a good choice, but the default options will probably lead to frustration! If you're seeing `RuntimeError: Failed to converge after X iterations`, try adjusting the tolerance `tol=...` and the maximum number of iterations `maxiter=...` keyword arguments in `newton`. The precise values you'll need will depend on the details of your implementation. Using `tol=1e-5` and `maxiter=200` worked for me, so that is probably a good place to start.\n",
        "\n",
        "\n",
        "\n",
        "(If you manage to find __all four solutions__ for `theta` that will hit the targets, then you will get up to _4 points of bonus credit back_ for any mistakes you made elsewhere on this homework!  You can't do better than a perfect score, though.)"
      ]
    },
    {
      "cell_type": "code",
      "execution_count": 18,
      "metadata": {
        "nbgrader": {
          "grade": true,
          "grade_id": "8_1c_code",
          "locked": false,
          "points": 8,
          "schema_version": 3,
          "solution": true,
          "task": false
        },
        "colab": {
          "base_uri": "https://localhost:8080/"
        },
        "id": "Dmp8jdY3iBPc",
        "outputId": "ec74e52f-f355-4aab-af68-f991b7290e37"
      },
      "outputs": [
        {
          "output_type": "stream",
          "name": "stdout",
          "text": [
            "Target 1 Low Angle: 0.198768 rad\n",
            "Target 1 High Angle: 1.062254 rad\n",
            "Target 2 Low Angle: 0.952580 rad\n",
            "Target 2 High Angle: 1.182771 rad\n"
          ]
        }
      ],
      "source": [
        "from scipy.optimize import newton\n",
        "\n",
        "# Target 1 is on the ground at  (x,y)=(3,0) ;\n",
        "# Target 2 is at  (x,y)=(2,2)\n",
        "# v_0 = 12 m/s\n",
        "\n",
        "# Vars Needed\n",
        "V_MAG, B, C = 12.0, 0.7, 0.2\n",
        "T_ARRAY = np.linspace(0, 5.0, 20000)\n",
        "\n",
        "# I need a function that will help me to find the theta\n",
        "# This will make my life easier, since all I need\n",
        "# is two value v_mag and thata\n",
        "def v_0_from_theta(v_mag, theta):\n",
        "    return (v_mag * np.cos(theta), v_mag * np.sin(theta))\n",
        "\n",
        "# this function will help find y # Gemeni Help write it\n",
        "# But It think we have a simpler solution but time is of the esense\n",
        "def find_y_at_x(x_target, x_traj, y_traj):\n",
        "    i_cross = np.where(x_traj >= x_target)[0]\n",
        "    if len(i_cross) == 0: return y_traj[-1] # Falls short\n",
        "    i2 = i_cross[0]\n",
        "    i1 = i2 - 1\n",
        "    if i1 < 0: i1 = 0\n",
        "    x1, y1 = x_traj[i1], y_traj[i1]\n",
        "    x2, y2 = x_traj[i2], y_traj[i2]\n",
        "    if x2 - x1 == 0: return y1\n",
        "    y_actual = y1 + (y2 - y1) * (x_target - x1) / (x2 - x1)\n",
        "    return y_actual\n",
        "\n",
        "\n",
        "def shooting_error(theta, x_target, y_target):\n",
        "    \"\"\"Calculates the error: y_actual - y_target.\"\"\"\n",
        "    v_0 = v_0_from_theta(V_MAG, theta)\n",
        "    x, y = solve_motion(T_ARRAY, v_0, B, C)\n",
        "\n",
        "    # cases needed to check\n",
        "    if x[-1] < x_target - 1e-4 and x_target > 0:\n",
        "         return -10.0\n",
        "\n",
        "    y_actual = find_y_at_x(x_target, x, y)\n",
        "    return y_actual - y_target\n",
        "\n",
        "\n",
        "# Target 1: (3.0, 0.0)\n",
        "def error_1(theta): return shooting_error(theta, 3.0, 0.0)\n",
        "theta_1_low = newton(error_1, np.deg2rad(10), tol=1e-5, maxiter=200)\n",
        "theta_1_high = newton(error_1, np.deg2rad(60), tol=1e-5, maxiter=200)\n",
        "\n",
        "# Target 2: (2.0, 2.0)\n",
        "def error_2(theta): return shooting_error(theta, 2.0, 2.0)\n",
        "theta_2_low = newton(error_2, np.deg2rad(40), tol=1e-5, maxiter=200)\n",
        "theta_2_high = newton(error_2, np.deg2rad(70), tol=1e-5, maxiter=200)\n",
        "\n",
        "\n",
        "# --- Assigning Required Variables (Low angles) ---\n",
        "theta_1 = theta_1_low\n",
        "theta_2 = theta_2_low\n",
        "\n",
        "# Bonus Credit\n",
        "print(f\"Target 1 Low Angle: {theta_1_low:.6f} rad\")\n",
        "print(f\"Target 1 High Angle: {theta_1_high:.6f} rad\")\n",
        "print(f\"Target 2 Low Angle: {theta_2_low:.6f} rad\")\n",
        "print(f\"Target 2 High Angle: {theta_2_high:.6f} rad\")\n",
        "\n",
        "\n",
        "\n",
        "\n"
      ]
    },
    {
      "cell_type": "code",
      "execution_count": 17,
      "metadata": {
        "nbgrader": {
          "grade": false,
          "grade_id": "cell-8d9e0dd8d623a068",
          "locked": false,
          "schema_version": 1,
          "solution": true
        },
        "colab": {
          "base_uri": "https://localhost:8080/",
          "height": 718
        },
        "id": "RG83rZw3iBPc",
        "outputId": "dfd6ceb8-c618-4286-a5d9-c52c3342f2b3"
      },
      "outputs": [
        {
          "output_type": "execute_result",
          "data": {
            "text/plain": [
              "<matplotlib.legend.Legend at 0x7e4a4fdbc8c0>"
            ]
          },
          "metadata": {},
          "execution_count": 17
        },
        {
          "output_type": "display_data",
          "data": {
            "text/plain": [
              "<Figure size 800x800 with 1 Axes>"
            ],
            "image/png": "[encoded data removed]"
          },
          "metadata": {}
        }
      ],
      "source": [
        "# Save your launch angle solutions in these variables - overwrite them below!\n",
        "#theta_1 = np.pi / 4\n",
        "#theta_2 = np.pi / 4\n",
        "\n",
        "\n",
        "# Draw the targets\n",
        "plt.figure(figsize=(8, 8))\n",
        "\n",
        "\n",
        "def plot_target(x, y, color):\n",
        "    plt.plot(x, y, color=color, marker=\"o\", markersize=2)\n",
        "    plt.plot(x, y, color=color, marker=\"o\", markersize=15, fillstyle=\"none\")\n",
        "    plt.plot(x, y, color=color, marker=\"o\", markersize=25, fillstyle=\"none\")\n",
        "    plt.plot(x, y, color=color, marker=\"o\", markersize=35, fillstyle=\"none\")\n",
        "\n",
        "\n",
        "plot_target(3, 0, color=\"red\")  # Target 1 - hit this with launch angle theta_1\n",
        "plot_target(2, 2, color=\"blue\")  # Target 3 (--> theta_2)\n",
        "\n",
        "plt.xlim(0, 4)\n",
        "plt.ylim(0, 4)\n",
        "plt.xlabel(\"x (m)\")\n",
        "plt.ylabel(\"y (m)\")\n",
        "\n",
        "# Now plot your solutions to see if they look reasonable!\n",
        "\n",
        "\n",
        "# it Does make sense\n",
        "# Targets\n",
        "plt.plot(3, 0, color=\"red\", marker=\"o\", markersize=35, fillstyle=\"none\")\n",
        "plt.plot(2, 2, color=\"blue\", marker=\"o\", markersize=35, fillstyle=\"none\")\n",
        "# Trajectories\n",
        "x1, y1 = solve_motion(T_ARRAY, v_0_from_theta(V_MAG, theta_1), B, C)\n",
        "x2, y2 = solve_motion(T_ARRAY, v_0_from_theta(V_MAG, theta_2), B, C)\n",
        "plt.plot(x1, y1, \"r-\", label=f'Tgt 1 $\\\\theta_1$={np.rad2deg(theta_1):.2f}°')\n",
        "plt.plot(x2, y2, \"b-\", label=f'Tgt 2 $\\\\theta_2$={np.rad2deg(theta_2):.2f}°')\n",
        "\n",
        "plt.xlim(0, 4)\n",
        "plt.ylim(0, 4)\n",
        "plt.xlabel(\"x (m)\")\n",
        "plt.ylabel(\"y (m)\")\n",
        "plt.legend()"
      ]
    },
    {
      "cell_type": "code",
      "execution_count": null,
      "metadata": {
        "nbgrader": {
          "grade": true,
          "grade_id": "8_1c_hidden",
          "locked": true,
          "points": 7,
          "schema_version": 1,
          "solution": false
        },
        "id": "FFf6A27EiBPc"
      },
      "outputs": [],
      "source": [
        "# testing cell\n",
        "\n",
        "# Your answers should be saved in these variables!!\n",
        "# You will lose credit if they aren't!\n",
        "print(f\"{theta_1=:.3f}, {theta_2=:.3f}\")\n",
        "\n",
        "check_1 = np.abs(theta_1 - 0.198479) <= 1e-3\n",
        "check_1a = np.abs(theta_1 - 1.062109) <= 1e-3\n",
        "check_2 = np.abs(theta_2 - 0.952090) <= 1e-3\n",
        "check_2a = np.abs(theta_2 - 1.182853) <= 1e-3\n",
        "\n",
        "assert check_1 or check_1a\n",
        "assert check_2 or check_2a\n",
        "\n",
        "## theta tests to be added here"
      ]
    },
    {
      "cell_type": "markdown",
      "metadata": {
        "nbgrader": {
          "grade": false,
          "grade_id": "cell-ccc6403172ea3d8e",
          "locked": true,
          "schema_version": 1,
          "solution": false
        },
        "id": "i0EAcv13iBPc"
      },
      "source": [
        "-----\n",
        "\n",
        "### Extra material\n",
        "\n",
        "(This stuff is _not_ part of the assignment, just for your information.)\n",
        "\n",
        "The `find_range` function I gave you above is sort of naive, since it just returns the nearest x-coordinate to the y-value that's nearest zero.  We could imagine improving this by __linear interpolation__: find a pair of (x,y) values bracketing zero, and then draw a line between them.  This makes the function significantly more complicated:"
      ]
    },
    {
      "cell_type": "code",
      "execution_count": null,
      "metadata": {
        "nbgrader": {
          "grade": false,
          "grade_id": "cell-826e1616c45adb33",
          "locked": true,
          "schema_version": 1,
          "solution": false
        },
        "id": "TEdCo1wxiBPc"
      },
      "outputs": [],
      "source": [
        "def find_range_interp(x, y):\n",
        "    # Start with brute-force root finding, NumPy style!\n",
        "    # Find the timestep i where y is closest to zero.\n",
        "    # (The particle _starts_ at zero, so throw out the first\n",
        "    # few points in the path to avoid confusion.)\n",
        "    i_zero = np.abs(y[5:]).argmin() + 5\n",
        "\n",
        "    # Figure out which way zero is from y[i_zero].\n",
        "    # Then do a linear interpolation to estimate the zero crossing.\n",
        "    if y[i_zero - 1] / y[i_zero] < 0:\n",
        "        # Sign changed to the left of i_zero\n",
        "        i1 = i_zero - 1\n",
        "        i2 = i_zero\n",
        "    elif y[i_zero + 1] / y[i_zero] < 0:\n",
        "        # Sign changed to the right of i_zero\n",
        "        i1 = i_zero\n",
        "        i2 = i_zero + 1\n",
        "    else:\n",
        "        # This should never happen if we understand our own algorithm!\n",
        "        # Make sure the program crashes if we somehow end up in this branch.\n",
        "        assert False\n",
        "\n",
        "    # If y = mx + b, then y=0 at x=-b/m.\n",
        "    m = (y[i2] - y[i1]) / (x[i2] - x[i1])\n",
        "    b = y[i1] - m * x[i1]\n",
        "\n",
        "    return -b / m"
      ]
    },
    {
      "cell_type": "markdown",
      "metadata": {
        "nbgrader": {
          "grade": false,
          "grade_id": "cell-a0c81f55fe549f60",
          "locked": true,
          "schema_version": 1,
          "solution": false
        },
        "id": "qyNNN4mQiBPc"
      },
      "source": [
        "If you try this above where we used `find_range`, you'll find that it doesn't really help with needing a lot of points to get the range correct!  This is because although we have reduced one source of discretization error with `find_range_interp`, this source of error is _small_ compared to the accumulated error from integrating the entire trajectory using Euler's method!\n",
        "\n",
        "(If we used a more sophisticated scheme like Runge-Kutta 4-5, then `find_range_interp` might have been more useful to use.)"
      ]
    }
  ],
  "metadata": {
    "kernelspec": {
      "display_name": "Python 3 (ipykernel)",
      "language": "python",
      "name": "python3"
    },
    "language_info": {
      "codemirror_mode": {
        "name": "ipython",
        "version": 3
      },
      "file_extension": ".py",
      "mimetype": "text/x-python",
      "name": "python",
      "nbconvert_exporter": "python",
      "pygments_lexer": "ipython3",
      "version": "3.13.7"
    },
    "colab": {
      "provenance": []
    }
  },
  "nbformat": 4,
  "nbformat_minor": 0
}